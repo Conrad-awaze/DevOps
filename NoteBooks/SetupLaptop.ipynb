{
 "cells": [
  {
   "cell_type": "markdown",
   "metadata": {
    "vscode": {
     "languageId": "powershell"
    }
   },
   "source": [
    "# Laptop Setup\n",
    "\n",
    "### Setup using the Homebrew package manager\n",
    "\n",
    "https://formulae.brew.sh/\n",
    "\n",
    "- brew install --cask 1password\n",
    "- brew install --cask dotnet-sdk\n",
    "- brew install --cask powershell\n",
    "- brew install --cask visual-studio-code"
   ]
  },
  {
   "cell_type": "code",
   "execution_count": 2,
   "metadata": {
    "dotnet_interactive": {
     "language": "pwsh"
    },
    "polyglot_notebook": {
     "kernelName": "pwsh"
    },
    "vscode": {
     "languageId": "polyglot-notebook"
    }
   },
   "outputs": [
    {
     "name": "stdout",
     "output_type": "stream",
     "text": [
      "ca-certificates\n",
      "openssl@3\n",
      "1password\n",
      "dotnet-sdk\n",
      "powershell\n",
      "visual-studio-code\n"
     ]
    }
   ],
   "source": [
    "brew list"
   ]
  }
 ],
 "metadata": {
  "kernelspec": {
   "display_name": ".NET (C#)",
   "language": "C#",
   "name": ".net-csharp"
  },
  "language_info": {
   "name": "python"
  },
  "polyglot_notebook": {
   "kernelInfo": {
    "defaultKernelName": "csharp",
    "items": [
     {
      "aliases": [],
      "name": "csharp"
     }
    ]
   }
  }
 },
 "nbformat": 4,
 "nbformat_minor": 2
}
