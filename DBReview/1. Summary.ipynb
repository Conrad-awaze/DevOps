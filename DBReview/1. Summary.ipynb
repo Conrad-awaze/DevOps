{
 "cells": [
  {
   "cell_type": "markdown",
   "metadata": {},
   "source": [
    "## AWS Database Review - PROD Accounts"
   ]
  },
  {
   "cell_type": "code",
   "execution_count": 3,
   "metadata": {
    "dotnet_interactive": {
     "language": "pwsh"
    },
    "polyglot_notebook": {
     "kernelName": "pwsh"
    }
   },
   "outputs": [
    {
     "name": "stdout",
     "output_type": "stream",
     "text": [
      "\n",
      "\u001b[32;1mProfileName                     \u001b[0m\u001b[32;1m StoreTypeName        \u001b[0m\u001b[32;1m ProfileLocation\u001b[0m\n",
      "\u001b[32;1m-----------                     \u001b[0m \u001b[32;1m-------------        \u001b[0m \u001b[32;1m---------------\u001b[0m\n",
      "DevOps-Apex-PROD                 SharedCredentialsFile /Users/conrad.gauntlett/.aws/credentials\n",
      "DevOps-Owner-DK-Prod             SharedCredentialsFile /Users/conrad.gauntlett/.aws/credentials\n",
      "DevOps-Owner-Services-PROD       SharedCredentialsFile /Users/conrad.gauntlett/.aws/credentials\n",
      "DevOps-AVR-Guest-Experience-PROD SharedCredentialsFile /Users/conrad.gauntlett/.aws/credentials\n",
      "DevOps-AVR-Guest-Payments-PROD   SharedCredentialsFile /Users/conrad.gauntlett/.aws/credentials\n",
      "DevOps-AGE-Checkout-PROD         SharedCredentialsFile /Users/conrad.gauntlett/.aws/credentials\n",
      "DevOps-AVR-PostBook-PROD         SharedCredentialsFile /Users/conrad.gauntlett/.aws/credentials\n",
      "DevOps-AVR-Pricing-PROD          SharedCredentialsFile /Users/conrad.gauntlett/.aws/credentials\n",
      "DevOps-Novosol-Awaze-PROD        SharedCredentialsFile /Users/conrad.gauntlett/.aws/credentials\n",
      "DevOps-Novosol-Core-PROD         SharedCredentialsFile /Users/conrad.gauntlett/.aws/credentials\n",
      "DevOps-Novosol-PROD              SharedCredentialsFile /Users/conrad.gauntlett/.aws/credentials\n",
      "DevOps-OCMA-PROD                 SharedCredentialsFile /Users/conrad.gauntlett/.aws/credentials\n",
      "DevOps-OneConnect-PROD           SharedCredentialsFile /Users/conrad.gauntlett/.aws/credentials\n",
      "DevOps-VRUK-OwnersPortal-PROD    SharedCredentialsFile /Users/conrad.gauntlett/.aws/credentials\n",
      "\n"
     ]
    }
   ],
   "source": [
    "Import-Module AWS.Tools.Common\n",
    "Import-Module AWS.Tools.DynamoDBv2\n",
    "Import-Module AWS.Tools.RDS\n",
    "\n",
    "\n",
    "$Profiles   = Get-AWSCredentials -ListProfileDetail | Where-Object { $_.ProfileName -like 'DevOps*' }\n",
    "$Profiles\n",
    "\n",
    "function Get-AWSDBInformation {\n",
    "    [CmdletBinding()]\n",
    "    param (\n",
    "\n",
    "        $Profiles,\n",
    "        $Regions,\n",
    "        $RegexGroup             = 'AccountNumber',\n",
    "        $RegexGroupAccountName  = 'AccountName',\n",
    "        $RegexAccountNumber     = \"(?<$RegexGroup>\\d+):db.+$\",\n",
    "        $RegexAccountNumberDDb  = \"(?<$RegexGroup>\\d+):table.+$\" ,\n",
    "        $RegexAccountName       = \"(?<PreFix>DevOps-)(?<$RegexGroupAccountName>.+)\"\n",
    "    )\n",
    "    \n",
    "    begin {\n",
    "\n",
    "        $Summary    = @()\n",
    "        \n",
    "    }\n",
    "    \n",
    "    process {\n",
    "\n",
    "        $Summary    = @()\n",
    "        foreach ($Profile in $Profiles) {\n",
    "\n",
    "            foreach ($Region in $Regions) {\n",
    "                \n",
    "                $RDSInstances   = Get-RDSDBInstance -ProfileName $Profile.ProfileName -Region $Region\n",
    "                $ddbTables      = Get-DDBTableList -ProfileName $Profile.ProfileName -Region $Region\n",
    "\n",
    "                switch ([string]::IsNullOrEmpty($RDSInstances)) {\n",
    "                    $true { \n",
    "                        if ($ddbTables) {\n",
    "                            \n",
    "                            $Table = $ddbTables | Select-Object -First 1\n",
    "                            $ddbTable = Get-DDBTable -TableName $Table -ProfileName $Profile.ProfileName -Region $Region\n",
    "                            $AccountID  = (($ddbTable.TableArn | Select-String -Pattern $RegexAccountNumberDDb).Matches.Groups | Where-Object { $_.Name -eq $RegexGroup }).Value\n",
    "                        }else {\n",
    "\n",
    "                            $AccountID = 0\n",
    "                        }\n",
    "                    }\n",
    "                    $false {\n",
    "\n",
    "                        $RDSInstance   = $RDSInstances | Select-Object -First 1\n",
    "                        $AccountID  = (($RDSInstance.DBInstanceArn | Select-String -Pattern $RegexAccountNumber).Matches.Groups | Where-Object { $_.Name -eq $RegexGroup }).Value\n",
    "                    }\n",
    "                    default {\n",
    "\n",
    "                        $AccountID = 0\n",
    "                    }\n",
    "                }\n",
    "\n",
    "                $Sum = [PSCustomObject]@{\n",
    "\n",
    "                    Account             = (($Profile.ProfileName | select-string -Pattern $RegexAccountName).Matches.Groups | Where-Object { $_.Name -eq $RegexGroupAccountName }).Value\n",
    "                    AccountID           = $AccountID\n",
    "                    Region              = $Region\n",
    "                    RDSInstances        = ($RDSInstances.DBInstanceIdentifier | Measure-Object).Count\n",
    "                    DynamoDBTables      = $ddbTables.Count\n",
    "                    \n",
    "                }\n",
    "\n",
    "                $condition = $Sum.RDSInstances + $Sum.DynamoDBTables\n",
    "                if ($condition -gt 0) {\n",
    "                    $Summary += $Sum\n",
    "                }\n",
    "            }\n",
    "\n",
    "        }\n",
    "        \n",
    "    }\n",
    "    \n",
    "    end {\n",
    "\n",
    "        $Summary\n",
    "        \n",
    "    }\n",
    "}"
   ]
  },
  {
   "cell_type": "code",
   "execution_count": null,
   "metadata": {
    "dotnet_interactive": {
     "language": "pwsh"
    },
    "polyglot_notebook": {
     "kernelName": "pwsh"
    }
   },
   "outputs": [],
   "source": [
    "$Regions    = \"eu-central-1\" , \"eu-west-2\" , \"eu-west-1\", \"us-east-1\"\n",
    "$Summary    = Get-AWSDBInformation $Profiles $Regions\n",
    "$Summary    | Format-Table -AutoSize\n",
    "# $Summary    | export-csv -Path '/Users/conrad.gauntlett/WorkArea/Temp/AWSDBInformation.csv' -NoTypeInformation -Force"
   ]
  }
 ],
 "metadata": {
  "kernelspec": {
   "display_name": ".NET (PowerShell)",
   "language": "PowerShell",
   "name": ".net-pwsh"
  },
  "polyglot_notebook": {
   "kernelInfo": {
    "defaultKernelName": "pwsh",
    "items": [
     {
      "aliases": [],
      "languageName": "pwsh",
      "name": "pwsh"
     }
    ]
   }
  }
 },
 "nbformat": 4,
 "nbformat_minor": 2
}
