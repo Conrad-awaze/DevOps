{
 "cells": [
  {
   "cell_type": "markdown",
   "metadata": {},
   "source": [
    "## AWS Database Review - PROD Accounts"
   ]
  },
  {
   "cell_type": "code",
   "execution_count": 1,
   "metadata": {
    "dotnet_interactive": {
     "language": "pwsh"
    },
    "polyglot_notebook": {
     "kernelName": "pwsh"
    }
   },
   "outputs": [
    {
     "name": "stdout",
     "output_type": "stream",
     "text": [
      "\n",
      "\u001b[32;1mProfileName                     \u001b[0m\u001b[32;1m StoreTypeName        \u001b[0m\u001b[32;1m ProfileLocation\u001b[0m\n",
      "\u001b[32;1m-----------                     \u001b[0m \u001b[32;1m-------------        \u001b[0m \u001b[32;1m---------------\u001b[0m\n",
      "DevOps-Apex-PROD                 SharedCredentialsFile /Users/conrad.gauntlett/.aws/credentials\n",
      "DevOps-Owner-DK-Prod             SharedCredentialsFile /Users/conrad.gauntlett/.aws/credentials\n",
      "DevOps-Owner-Services-PROD       SharedCredentialsFile /Users/conrad.gauntlett/.aws/credentials\n",
      "DevOps-AVR-Guest-Experience-PROD SharedCredentialsFile /Users/conrad.gauntlett/.aws/credentials\n",
      "DevOps-AVR-Guest-Payments-PROD   SharedCredentialsFile /Users/conrad.gauntlett/.aws/credentials\n",
      "DevOps-AGE-Checkout-PROD         SharedCredentialsFile /Users/conrad.gauntlett/.aws/credentials\n",
      "DevOps-AVR-PostBook-PROD         SharedCredentialsFile /Users/conrad.gauntlett/.aws/credentials\n",
      "DevOps-AVR-Pricing-PROD          SharedCredentialsFile /Users/conrad.gauntlett/.aws/credentials\n",
      "DevOps-Novosol-Awaze-PROD        SharedCredentialsFile /Users/conrad.gauntlett/.aws/credentials\n",
      "DevOps-Novosol-Core-PROD         SharedCredentialsFile /Users/conrad.gauntlett/.aws/credentials\n",
      "DevOps-Novosol-PROD              SharedCredentialsFile /Users/conrad.gauntlett/.aws/credentials\n",
      "DevOps-OCMA-PROD                 SharedCredentialsFile /Users/conrad.gauntlett/.aws/credentials\n",
      "DevOps-OneConnect-PROD           SharedCredentialsFile /Users/conrad.gauntlett/.aws/credentials\n",
      "DevOps-VRUK-OwnersPortal-PROD    SharedCredentialsFile /Users/conrad.gauntlett/.aws/credentials\n",
      "\n"
     ]
    }
   ],
   "source": [
    "Import-Module AWS.Tools.Common, AWS.Tools.DynamoDBv2, AWS.Tools.RDS\n",
    "Import-Module '/Users/conrad.gauntlett/WorkArea/Repos/DBA_MISC/PowerShell/Modules/DevOpsToolkit'\n",
    "\n",
    "$Profiles   = Get-AWSCredentials -ListProfileDetail | Where-Object { $_.ProfileName -like 'DevOps*' }\n",
    "$Profiles"
   ]
  },
  {
   "cell_type": "code",
   "execution_count": 2,
   "metadata": {
    "dotnet_interactive": {
     "language": "pwsh"
    },
    "polyglot_notebook": {
     "kernelName": "pwsh"
    }
   },
   "outputs": [
    {
     "name": "stdout",
     "output_type": "stream",
     "text": [
      "\n",
      "\u001b[32;1mAccount                  \u001b[0m\u001b[32;1m AccountID   \u001b[0m\u001b[32;1m Region      \u001b[0m\u001b[32;1m RDSInstances\u001b[0m\u001b[32;1m DynamoDBTables\u001b[0m\n",
      "\u001b[32;1m-------                  \u001b[0m \u001b[32;1m---------   \u001b[0m \u001b[32;1m------      \u001b[0m \u001b[32;1m------------\u001b[0m \u001b[32;1m--------------\u001b[0m\n",
      "Apex-PROD                 463854377715 eu-west-2               0              8\n",
      "Owner-DK-Prod             619122104288 eu-west-2               0              1\n",
      "Owner-Services-PROD       496175963148 eu-west-2               3              1\n",
      "AVR-Guest-Experience-PROD 957578851978 eu-west-2               1              2\n",
      "AVR-Guest-Payments-PROD   461191266857 eu-central-1            0              1\n",
      "AVR-Guest-Payments-PROD   461191266857 eu-west-2               0              5\n",
      "AGE-Checkout-PROD         004796833142 eu-west-2               0              3\n",
      "AVR-PostBook-PROD         125329075900 eu-west-2               0              2\n",
      "AVR-Pricing-PROD          771654826489 eu-west-2               6              3\n",
      "Novosol-Awaze-PROD        997644474777 eu-central-1            0              1\n",
      "Novosol-Core-PROD         579597753614 eu-west-2               0              1\n",
      "Novosol-PROD              035637376366 eu-central-1            4              1\n",
      "Novosol-PROD              035637376366 eu-west-2               1              0\n",
      "OCMA-PROD                 094848768475 eu-west-2               0              1\n",
      "OneConnect-PROD           822029231144 eu-west-2               0              7\n",
      "\n"
     ]
    }
   ],
   "source": [
    "$Regions    = \"eu-central-1\" , \"eu-west-2\" , \"eu-west-1\", \"us-east-1\"\n",
    "$Summary    = Get-DoAWSDBInformation $Profiles $Regions\n",
    "$Summary    | Format-Table -AutoSize\n",
    "# $Summary    | export-csv -Path '/Users/conrad.gauntlett/WorkArea/Temp/AWSDBInformation.csv' -NoTypeInformation -Force"
   ]
  }
 ],
 "metadata": {
  "kernelspec": {
   "display_name": ".NET (PowerShell)",
   "language": "PowerShell",
   "name": ".net-pwsh"
  },
  "polyglot_notebook": {
   "kernelInfo": {
    "defaultKernelName": "pwsh",
    "items": [
     {
      "aliases": [],
      "languageName": "pwsh",
      "name": "pwsh"
     }
    ]
   }
  }
 },
 "nbformat": 4,
 "nbformat_minor": 2
}
