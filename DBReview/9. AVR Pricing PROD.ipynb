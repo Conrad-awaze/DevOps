{
 "cells": [
  {
   "cell_type": "markdown",
   "metadata": {},
   "source": [
    "# Account - AVR Pricing PROD"
   ]
  },
  {
   "cell_type": "markdown",
   "metadata": {},
   "source": [
    "## Database Summary"
   ]
  },
  {
   "cell_type": "code",
   "execution_count": 1,
   "metadata": {
    "dotnet_interactive": {
     "language": "pwsh"
    },
    "polyglot_notebook": {
     "kernelName": "pwsh"
    }
   },
   "outputs": [
    {
     "name": "stdout",
     "output_type": "stream",
     "text": [
      "\n",
      "\u001b[32;1mAccount         \u001b[0m\u001b[32;1m AccountID   \u001b[0m\u001b[32;1m Region   \u001b[0m\u001b[32;1m RDSInstances\u001b[0m\u001b[32;1m DynamoDBTables\u001b[0m\n",
      "\u001b[32;1m-------         \u001b[0m \u001b[32;1m---------   \u001b[0m \u001b[32;1m------   \u001b[0m \u001b[32;1m------------\u001b[0m \u001b[32;1m--------------\u001b[0m\n",
      "AVR-Pricing-PROD 771654826489 eu-west-2            6              3\n",
      "\n"
     ]
    }
   ],
   "source": [
    "Import-Module AWS.Tools.Common, AWS.Tools.DynamoDBv2, AWS.Tools.RDS\n",
    "Import-Module '/Users/conrad.gauntlett/WorkArea/Repos/DBA_MISC/PowerShell/Modules/DevOpsToolkit'\n",
    "\n",
    "$Account            = 'DevOps-AVR-Pricing-PROD'\n",
    "$RDSSummaryColumns  = 'AvailabilityZone', 'DBSnapshotIdentifier', 'SnapshotCreateTime', 'SnapshotType', 'Status'\n",
    "$Profiles           = Get-AWSCredentials -ListProfileDetail | Where-Object { $_.ProfileName -match $Account }\n",
    "$Regions            = \"eu-central-1\" , \"eu-west-2\" , \"eu-west-1\", \"us-east-1\"\n",
    "$Summary            = Get-DoAWSDBInformation $Profiles $Regions\n",
    "$Summary | Format-Table -AutoSize"
   ]
  },
  {
   "cell_type": "markdown",
   "metadata": {},
   "source": [
    "### DynamoDB Tables"
   ]
  },
  {
   "cell_type": "code",
   "execution_count": 2,
   "metadata": {
    "dotnet_interactive": {
     "language": "pwsh"
    },
    "polyglot_notebook": {
     "kernelName": "pwsh"
    }
   },
   "outputs": [
    {
     "name": "stdout",
     "output_type": "stream",
     "text": [
      "\n",
      "\u001b[32;1mRegion   \u001b[0m\u001b[32;1m TableName                                          \u001b[0m\u001b[32;1m TableBackup\u001b[0m\u001b[32;1m CreationDateTime    \u001b[0m\u001b[32;1m Item\u001b[0m\n",
      "\u001b[32;1m         \u001b[0m\u001b[32;1m                                                    \u001b[0m\u001b[32;1m            \u001b[0m\u001b[32;1m                     \u001b[0m\u001b[32;1m Coun\u001b[0m\n",
      "\u001b[32;1m         \u001b[0m\u001b[32;1m                                                    \u001b[0m\u001b[32;1m            \u001b[0m\u001b[32;1m                     \u001b[0m\u001b[32;1m    t\u001b[0m\n",
      "\u001b[32;1m------   \u001b[0m \u001b[32;1m---------                                          \u001b[0m \u001b[32;1m-----------\u001b[0m \u001b[32;1m----------------    \u001b[0m \u001b[32;1m----\u001b[0m\n",
      "eu-west-2 pricing-engine-novasol-connector-aggregate-capacity       False 3/28/2023 3:03:56 PM …779\n",
      "eu-west-2 pricing-engine-novasol-connector-delta-capacity           False 3/28/2023 3:03:58 PM …779\n",
      "eu-west-2 terraform-locks                                           False 3/1/2022 1:51:26 PM    32\n",
      "\n"
     ]
    }
   ],
   "source": [
    "$ddbTables = Get-DoDDBTableInformation $Profiles $Regions \n",
    "$ddbTables | Format-Table -AutoSize"
   ]
  },
  {
   "cell_type": "markdown",
   "metadata": {},
   "source": [
    "### RDS Instances"
   ]
  },
  {
   "cell_type": "code",
   "execution_count": 3,
   "metadata": {
    "dotnet_interactive": {
     "language": "pwsh"
    },
    "polyglot_notebook": {
     "kernelName": "pwsh"
    }
   },
   "outputs": [
    {
     "name": "stdout",
     "output_type": "stream",
     "text": [
      "\n",
      "\u001b[32;1mRegion   \u001b[0m\u001b[32;1m DBInstanceIdentifier                                        \u001b[0m\u001b[32;1m Engine           \u001b[0m\u001b[32;1m Version\u001b[0m\u001b[32;1m In\u001b[0m\n",
      "\u001b[32;1m         \u001b[0m\u001b[32;1m                                                             \u001b[0m\u001b[32;1m                  \u001b[0m\u001b[32;1m        \u001b[0m\u001b[32;1m st\u001b[0m\n",
      "\u001b[32;1m         \u001b[0m\u001b[32;1m                                                             \u001b[0m\u001b[32;1m                  \u001b[0m\u001b[32;1m        \u001b[0m\u001b[32;1m an\u001b[0m\n",
      "\u001b[32;1m         \u001b[0m\u001b[32;1m                                                             \u001b[0m\u001b[32;1m                  \u001b[0m\u001b[32;1m        \u001b[0m\u001b[32;1m ce\u001b[0m\n",
      "\u001b[32;1m         \u001b[0m\u001b[32;1m                                                             \u001b[0m\u001b[32;1m                  \u001b[0m\u001b[32;1m        \u001b[0m\u001b[32;1m Cr\u001b[0m\n",
      "\u001b[32;1m         \u001b[0m\u001b[32;1m                                                             \u001b[0m\u001b[32;1m                  \u001b[0m\u001b[32;1m        \u001b[0m\u001b[32;1m ea\u001b[0m\n",
      "\u001b[32;1m         \u001b[0m\u001b[32;1m                                                             \u001b[0m\u001b[32;1m                  \u001b[0m\u001b[32;1m        \u001b[0m\u001b[32;1m te\u001b[0m\n",
      "\u001b[32;1m         \u001b[0m\u001b[32;1m                                                             \u001b[0m\u001b[32;1m                  \u001b[0m\u001b[32;1m        \u001b[0m\u001b[32;1m Ti\u001b[0m\n",
      "\u001b[32;1m         \u001b[0m\u001b[32;1m                                                             \u001b[0m\u001b[32;1m                  \u001b[0m\u001b[32;1m        \u001b[0m\u001b[32;1m me\u001b[0m\n",
      "\u001b[32;1m------   \u001b[0m \u001b[32;1m--------------------                                        \u001b[0m \u001b[32;1m------           \u001b[0m \u001b[32;1m-------\u001b[0m \u001b[32;1m--\u001b[0m\n",
      "eu-west-2 application-autoscaling-f8e99b18-7cfe-41ee-af1f-f40b22d5a229 aurora-postgresql 14.9    2…\n",
      "eu-west-2 pricing-event-store-1                                        aurora-postgresql 14.9    5…\n",
      "eu-west-2 pricing-management-poc-db-v2                                 postgres          13.13   1…\n",
      "eu-west-2 pricing-management-poc-db-v2-rr-0                            postgres          13.13   1…\n",
      "eu-west-2 repricing-rds-instance-prod                                  postgres          14.10   7…\n",
      "eu-west-2 rpt-rds-prod                                                 postgres          12.17   4…\n",
      "\n"
     ]
    }
   ],
   "source": [
    "$RDS        = Get-DoRDSDBSummary $Profiles $Regions \n",
    "$Snapshots  = Get-DoRDSSnapshotSummary $Profiles $Regions\n",
    "$RDS | Format-Table -AutoSize"
   ]
  },
  {
   "cell_type": "markdown",
   "metadata": {},
   "source": [
    "#### Snapshots"
   ]
  },
  {
   "cell_type": "markdown",
   "metadata": {},
   "source": [
    "##### places-api"
   ]
  },
  {
   "cell_type": "code",
   "execution_count": 4,
   "metadata": {
    "dotnet_interactive": {
     "language": "pwsh"
    },
    "polyglot_notebook": {
     "kernelName": "pwsh"
    }
   },
   "outputs": [
    {
     "name": "stdout",
     "output_type": "stream",
     "text": [
      "\n",
      "\u001b[32;1mAvailabilityZone\u001b[0m\u001b[32;1m DBSnapshotIdentifier             \u001b[0m\u001b[32;1m SnapshotCreateTime  \u001b[0m\u001b[32;1m SnapshotType\u001b[0m\u001b[32;1m Status\u001b[0m\n",
      "\u001b[32;1m----------------\u001b[0m \u001b[32;1m--------------------             \u001b[0m \u001b[32;1m------------------  \u001b[0m \u001b[32;1m------------\u001b[0m \u001b[32;1m------\u001b[0m\n",
      "eu-west-2b       rds:rpt-rds-prod-2024-07-16-03-13 7/16/2024 4:13:05 AM automated    available\n",
      "eu-west-2b       rds:rpt-rds-prod-2024-07-15-03-12 7/15/2024 4:12:29 AM automated    available\n",
      "\n"
     ]
    }
   ],
   "source": [
    "$DB = 'rpt-rds-prod'\n",
    "$Snapshots | Where-Object {$_.DBInstanceIdentifier -eq $DB} | Select-Object $RDSSummaryColumns |\n",
    "Sort-Object SnapshotCreateTime -Descending  |Format-Table -AutoSize"
   ]
  }
 ],
 "metadata": {
  "kernelspec": {
   "display_name": ".NET (PowerShell)",
   "language": "PowerShell",
   "name": ".net-pwsh"
  },
  "polyglot_notebook": {
   "kernelInfo": {
    "defaultKernelName": "pwsh",
    "items": [
     {
      "aliases": [],
      "languageName": "pwsh",
      "name": "pwsh"
     }
    ]
   }
  }
 },
 "nbformat": 4,
 "nbformat_minor": 2
}
