{
 "cells": [
  {
   "cell_type": "markdown",
   "metadata": {},
   "source": [
    "# Account - AGE Checkout PROD"
   ]
  },
  {
   "cell_type": "markdown",
   "metadata": {},
   "source": [
    "## Database Summary"
   ]
  },
  {
   "cell_type": "code",
   "execution_count": 1,
   "metadata": {
    "dotnet_interactive": {
     "language": "pwsh"
    },
    "polyglot_notebook": {
     "kernelName": "pwsh"
    }
   },
   "outputs": [
    {
     "name": "stdout",
     "output_type": "stream",
     "text": [
      "\n",
      "\u001b[32;1mAccount          \u001b[0m\u001b[32;1m AccountID   \u001b[0m\u001b[32;1m Region   \u001b[0m\u001b[32;1m RDSInstances\u001b[0m\u001b[32;1m DynamoDBTables\u001b[0m\n",
      "\u001b[32;1m-------          \u001b[0m \u001b[32;1m---------   \u001b[0m \u001b[32;1m------   \u001b[0m \u001b[32;1m------------\u001b[0m \u001b[32;1m--------------\u001b[0m\n",
      "AGE-Checkout-PROD 004796833142 eu-west-2            0              3\n",
      "\n"
     ]
    }
   ],
   "source": [
    "Import-Module AWS.Tools.Common, AWS.Tools.DynamoDBv2, AWS.Tools.RDS\n",
    "Import-Module '/Users/conrad.gauntlett/WorkArea/Repos/DBA_MISC/PowerShell/Modules/DevOpsToolkit'\n",
    "\n",
    "$Account            = 'DevOps-AGE-Checkout-PROD'\n",
    "$RDSSummaryColumns  = 'AvailabilityZone', 'DBSnapshotIdentifier', 'SnapshotCreateTime', 'SnapshotType', 'Status'\n",
    "$Profiles           = Get-AWSCredentials -ListProfileDetail | Where-Object { $_.ProfileName -match $Account }\n",
    "$Regions            = \"eu-central-1\" , \"eu-west-2\" , \"eu-west-1\", \"us-east-1\"\n",
    "$Summary            = Get-DoAWSDBInformation $Profiles $Regions\n",
    "$Summary | Format-Table -AutoSize"
   ]
  },
  {
   "cell_type": "markdown",
   "metadata": {},
   "source": [
    "### DynamoDB Tables"
   ]
  },
  {
   "cell_type": "markdown",
   "metadata": {},
   "source": [
    "#### List Tables"
   ]
  },
  {
   "cell_type": "code",
   "execution_count": 13,
   "metadata": {
    "dotnet_interactive": {
     "language": "pwsh"
    },
    "polyglot_notebook": {
     "kernelName": "pwsh"
    }
   },
   "outputs": [
    {
     "name": "stdout",
     "output_type": "stream",
     "text": [
      "\n",
      "\u001b[32;1mRegion   \u001b[0m\u001b[32;1m TableName                  \u001b[0m\u001b[32;1m TableBackup\u001b[0m\u001b[32;1m CreationDateTime    \u001b[0m\u001b[32;1m ItemCount\u001b[0m\u001b[32;1m TableSizeMB\u001b[0m\n",
      "\u001b[32;1m------   \u001b[0m \u001b[32;1m---------                  \u001b[0m \u001b[32;1m-----------\u001b[0m \u001b[32;1m----------------    \u001b[0m \u001b[32;1m---------\u001b[0m \u001b[32;1m-----------\u001b[0m\n",
      "eu-west-2 checkout-session                  False 7/15/2022 9:06:38 AM      1833 10 MB\n",
      "eu-west-2 restricted-party-properties       False 3/7/2023 12:00:20 PM     21648 0 MB\n",
      "eu-west-2 terraform-locks                   False 2/28/2022 4:18:33 PM        34 0 MB\n",
      "\n"
     ]
    }
   ],
   "source": [
    "$ddbTables = Get-DoDDBTableInformation $Profiles $Regions \n",
    "$ddbTables | Format-Table -AutoSize"
   ]
  },
  {
   "cell_type": "markdown",
   "metadata": {},
   "source": [
    "#### List Backups"
   ]
  },
  {
   "cell_type": "code",
   "execution_count": 3,
   "metadata": {
    "dotnet_interactive": {
     "language": "pwsh"
    },
    "polyglot_notebook": {
     "kernelName": "pwsh"
    }
   },
   "outputs": [],
   "source": [
    "$BackupsList    = Get-DDBBackupList -ProfileName $Profiles.ProfileName -Region eu-west-2\n",
    "$Columns        = 'TableName', 'BackupName', 'BackupCreationDateTime',    'BackupType' #  'BackupStatus','BackupSizeBytes',\n",
    "$BackupsList | Sort-Object BackupCreationDateTime -Descending | Select-Object -Property $Columns | Format-Table -AutoSize"
   ]
  },
  {
   "cell_type": "markdown",
   "metadata": {},
   "source": [
    "#### Get the latest backup for a table"
   ]
  },
  {
   "cell_type": "code",
   "execution_count": 4,
   "metadata": {
    "dotnet_interactive": {
     "language": "pwsh"
    },
    "polyglot_notebook": {
     "kernelName": "pwsh"
    }
   },
   "outputs": [],
   "source": [
    "$Table = 'terraform-locks'\n",
    "if($BackupsList){\n",
    "\n",
    "    $Backup = $BackupsList | Where-Object { $_.TableName -eq $Table } | Sort-Object -Property BackupCreationDateTime -Descending | Select-Object -First 1\n",
    "    $Bk = Get-DDBBackup -BackupArn $Backup.BackupArn -ProfileName $Profiles.ProfileName\n",
    "    $Bk.BackupDetails\n",
    "\n",
    "}"
   ]
  },
  {
   "cell_type": "markdown",
   "metadata": {},
   "source": [
    "#### Create a new backup for the table"
   ]
  },
  {
   "cell_type": "code",
   "execution_count": 6,
   "metadata": {
    "dotnet_interactive": {
     "language": "pwsh"
    },
    "polyglot_notebook": {
     "kernelName": "pwsh"
    }
   },
   "outputs": [
    {
     "name": "stdout",
     "output_type": "stream",
     "text": [
      "\n",
      "\u001b[32;1mBackupArn              : \u001b[0marn:aws:dynamodb:eu-west-2:004796833142:table/terraform-locks/backup/01721\n",
      "                         119182811-cb5ef1e8\n",
      "\u001b[32;1mBackupCreationDateTime : \u001b[0m7/16/2024 8:39:42 AM\n",
      "\u001b[32;1mBackupExpiryDateTime   : \u001b[0m1/1/0001 12:00:00 AM\n",
      "\u001b[32;1mBackupName             : \u001b[0mterraform-locks-2024-07-16-09-39-42\n",
      "\u001b[32;1mBackupSizeBytes        : \u001b[0m4524\n",
      "\u001b[32;1mBackupStatus           : \u001b[0mCREATING\n",
      "\u001b[32;1mBackupType             : \u001b[0mUSER\n",
      "\n"
     ]
    },
    {
     "ename": "Error",
     "evalue": "Command failed: SubmitCode: $Table = 'terraform-locks' ...",
     "output_type": "error",
     "traceback": [
      "Command failed: SubmitCode: $Table = 'terraform-locks' ..."
     ]
    }
   ],
   "source": [
    "$Table = 'terraform-locks'\n",
    "$BackupNew = New-DDBBackup -TableName $Table -ProfileName $Profiles.ProfileName -BackupName \"$Table-$(get-date -format \"yyyy-MM-dd-HH-mm-ss\")\" -Region eu-west-2\n",
    "$BackupNew"
   ]
  },
  {
   "cell_type": "markdown",
   "metadata": {},
   "source": [
    "#### Check new backup details"
   ]
  },
  {
   "cell_type": "code",
   "execution_count": 7,
   "metadata": {
    "dotnet_interactive": {
     "language": "pwsh"
    },
    "polyglot_notebook": {
     "kernelName": "pwsh"
    }
   },
   "outputs": [
    {
     "name": "stdout",
     "output_type": "stream",
     "text": [
      "\n",
      "\u001b[32;1mBackupArn              : \u001b[0marn:aws:dynamodb:eu-west-2:004796833142:table/terraform-locks/backup/01721\n",
      "                         119182811-cb5ef1e8\n",
      "\u001b[32;1mBackupCreationDateTime : \u001b[0m7/16/2024 8:39:42 AM\n",
      "\u001b[32;1mBackupExpiryDateTime   : \u001b[0m1/1/0001 12:00:00 AM\n",
      "\u001b[32;1mBackupName             : \u001b[0mterraform-locks-2024-07-16-09-39-42\n",
      "\u001b[32;1mBackupSizeBytes        : \u001b[0m4524\n",
      "\u001b[32;1mBackupStatus           : \u001b[0mAVAILABLE\n",
      "\u001b[32;1mBackupType             : \u001b[0mUSER\n",
      "\n"
     ]
    }
   ],
   "source": [
    "$Bk = Get-DDBBackup -BackupArn $BackupNew.BackupArn -ProfileName $Profiles.ProfileName -Region eu-west-2\n",
    "$Bk.BackupDetails"
   ]
  },
  {
   "cell_type": "markdown",
   "metadata": {},
   "source": [
    "#### List all backups"
   ]
  },
  {
   "cell_type": "code",
   "execution_count": 8,
   "metadata": {
    "dotnet_interactive": {
     "language": "pwsh"
    },
    "polyglot_notebook": {
     "kernelName": "pwsh"
    }
   },
   "outputs": [
    {
     "name": "stdout",
     "output_type": "stream",
     "text": [
      "\n",
      "\u001b[32;1mTableName      \u001b[0m\u001b[32;1m BackupName                         \u001b[0m\u001b[32;1m BackupCreationDateTime\u001b[0m\u001b[32;1m BackupType\u001b[0m\n",
      "\u001b[32;1m---------      \u001b[0m \u001b[32;1m----------                         \u001b[0m \u001b[32;1m----------------------\u001b[0m \u001b[32;1m----------\u001b[0m\n",
      "terraform-locks terraform-locks-2024-07-16-09-39-42 7/16/2024 8:39:42 AM   USER\n",
      "\n"
     ]
    }
   ],
   "source": [
    "$BackupsList    = Get-DDBBackupList -ProfileName $Profiles.ProfileName -Region eu-west-2\n",
    "$Columns        = 'TableName', 'BackupName', 'BackupCreationDateTime',    'BackupType' #  'BackupStatus','BackupSizeBytes',\n",
    "$BackupsList | Sort-Object BackupCreationDateTime -Descending | Select-Object -Property $Columns | Format-Table -AutoSize"
   ]
  },
  {
   "cell_type": "markdown",
   "metadata": {},
   "source": [
    "#### Get the oldest backup"
   ]
  },
  {
   "cell_type": "code",
   "execution_count": 10,
   "metadata": {
    "dotnet_interactive": {
     "language": "pwsh"
    },
    "polyglot_notebook": {
     "kernelName": "pwsh"
    }
   },
   "outputs": [
    {
     "name": "stdout",
     "output_type": "stream",
     "text": [
      "\n",
      "\u001b[32;1mBackupArn              : \u001b[0marn:aws:dynamodb:eu-west-2:004796833142:table/terraform-locks/backup/01721\n",
      "                         119182811-cb5ef1e8\n",
      "\u001b[32;1mBackupCreationDateTime : \u001b[0m7/16/2024 8:39:42 AM\n",
      "\u001b[32;1mBackupExpiryDateTime   : \u001b[0m1/1/0001 12:00:00 AM\n",
      "\u001b[32;1mBackupName             : \u001b[0mterraform-locks-2024-07-16-09-39-42\n",
      "\u001b[32;1mBackupSizeBytes        : \u001b[0m4524\n",
      "\u001b[32;1mBackupStatus           : \u001b[0mAVAILABLE\n",
      "\u001b[32;1mBackupType             : \u001b[0mUSER\n",
      "\n"
     ]
    }
   ],
   "source": [
    "$Table = 'terraform-locks'\n",
    "$BackupOLDEST = $BackupsList | Where-Object { $_.TableName -eq $Table } | Sort-Object -Property BackupCreationDateTime  | Select-Object -First 1\n",
    "$Bk = Get-DDBBackup -BackupArn $BackupOLDEST.BackupArn -ProfileName $Profiles.ProfileName\n",
    "$Bk.BackupDetails"
   ]
  },
  {
   "cell_type": "markdown",
   "metadata": {},
   "source": [
    "#### Delete the oldest database"
   ]
  },
  {
   "cell_type": "code",
   "execution_count": 11,
   "metadata": {
    "dotnet_interactive": {
     "language": "pwsh"
    },
    "polyglot_notebook": {
     "kernelName": "pwsh"
    }
   },
   "outputs": [
    {
     "name": "stdout",
     "output_type": "stream",
     "text": [
      "\n",
      "\u001b[32;1mBackupArn              : \u001b[0marn:aws:dynamodb:eu-west-2:004796833142:table/terraform-locks/backup/01721\n",
      "                         119182811-cb5ef1e8\n",
      "\u001b[32;1mBackupCreationDateTime : \u001b[0m7/16/2024 8:39:42 AM\n",
      "\u001b[32;1mBackupExpiryDateTime   : \u001b[0m1/1/0001 12:00:00 AM\n",
      "\u001b[32;1mBackupName             : \u001b[0mterraform-locks-2024-07-16-09-39-42\n",
      "\u001b[32;1mBackupSizeBytes        : \u001b[0m4524\n",
      "\u001b[32;1mBackupStatus           : \u001b[0mDELETED\n",
      "\u001b[32;1mBackupType             : \u001b[0mUSER\n",
      "\n"
     ]
    }
   ],
   "source": [
    "$BackupDelete = Remove-DDBBackup -BackupArn $BackupOLDEST.BackupArn -ProfileName $Profiles.ProfileName -Region eu-west-2 -Confirm:$false\n",
    "$BackupDelete.BackupDetails"
   ]
  },
  {
   "cell_type": "markdown",
   "metadata": {},
   "source": [
    "#### List all backups"
   ]
  },
  {
   "cell_type": "code",
   "execution_count": 12,
   "metadata": {
    "dotnet_interactive": {
     "language": "pwsh"
    },
    "polyglot_notebook": {
     "kernelName": "pwsh"
    }
   },
   "outputs": [],
   "source": [
    "$BackupsList    = Get-DDBBackupList -ProfileName $Profiles.ProfileName -Region eu-west-2\n",
    "$Columns        = 'TableName', 'BackupName', 'BackupCreationDateTime',    'BackupType' #  'BackupStatus','BackupSizeBytes',\n",
    "$BackupsList | Sort-Object BackupCreationDateTime -Descending | Select-Object -Property $Columns | Format-Table -AutoSize"
   ]
  }
 ],
 "metadata": {
  "kernelspec": {
   "display_name": ".NET (PowerShell)",
   "language": "PowerShell",
   "name": ".net-pwsh"
  },
  "polyglot_notebook": {
   "kernelInfo": {
    "defaultKernelName": "pwsh",
    "items": [
     {
      "aliases": [],
      "languageName": "pwsh",
      "name": "pwsh"
     }
    ]
   }
  }
 },
 "nbformat": 4,
 "nbformat_minor": 2
}
