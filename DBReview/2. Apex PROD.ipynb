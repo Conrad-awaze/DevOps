{
 "cells": [
  {
   "cell_type": "code",
   "execution_count": 1,
   "metadata": {
    "dotnet_interactive": {
     "language": "pwsh"
    },
    "polyglot_notebook": {
     "kernelName": "pwsh"
    }
   },
   "outputs": [],
   "source": [
    "Import-Module AWS.Tools.Common\n",
    "Import-Module AWS.Tools.DynamoDBv2\n",
    "Import-Module AWS.Tools.RDS"
   ]
  },
  {
   "cell_type": "code",
   "execution_count": 2,
   "metadata": {
    "dotnet_interactive": {
     "language": "pwsh"
    },
    "polyglot_notebook": {
     "kernelName": "pwsh"
    }
   },
   "outputs": [
    {
     "name": "stdout",
     "output_type": "stream",
     "text": [
      "\n",
      "\u001b[32;1mAccount  \u001b[0m\u001b[32;1m AccountID   \u001b[0m\u001b[32;1m Region   \u001b[0m\u001b[32;1m RDSInstances\u001b[0m\u001b[32;1m DynamoDBTables\u001b[0m\n",
      "\u001b[32;1m-------  \u001b[0m \u001b[32;1m---------   \u001b[0m \u001b[32;1m------   \u001b[0m \u001b[32;1m------------\u001b[0m \u001b[32;1m--------------\u001b[0m\n",
      "Apex-PROD 463854377715 eu-west-2            0              8\n",
      "\n"
     ]
    }
   ],
   "source": [
    "$RegexGroup             = 'AccountNumber'\n",
    "$RegexGroupAccountName  = 'AccountName'\n",
    "$RegexAccountNumber     = \"(?<$RegexGroup>\\d+):db.+$\"\n",
    "$RegexAccountNumberDDb  = \"(?<$RegexGroup>\\d+):table.+$\" \n",
    "$RegexAccountName       = \"(?<PreFix>DevOps-)(?<$RegexGroupAccountName>.+)\"\n",
    "$Profiles               = Get-AWSCredentials -ListProfileDetail | Where-Object { $_.ProfileName -match 'DevOps-Apex-PROD' }\n",
    "$Regions                = \"eu-central-1\" , \"eu-west-2\" , \"eu-west-1\", \"us-east-1\"\n",
    "\n",
    "function Get-AWSDBInformation {\n",
    "    [CmdletBinding()]\n",
    "    param (\n",
    "        $Profiles,\n",
    "        $Regions\n",
    "    )\n",
    "    \n",
    "    begin {\n",
    "\n",
    "        $Summary    = @()\n",
    "        \n",
    "    }\n",
    "    \n",
    "    process {\n",
    "\n",
    "        $Summary    = @()\n",
    "        foreach ($Profile in $Profiles) {\n",
    "\n",
    "            foreach ($Region in $Regions) {\n",
    "                \n",
    "                $RDSInstances   = Get-RDSDBInstance -ProfileName $Profile.ProfileName -Region $Region\n",
    "                $ddbTables      = Get-DDBTableList -ProfileName $Profile.ProfileName -Region $Region\n",
    "\n",
    "                switch ([string]::IsNullOrEmpty($RDSInstances)) {\n",
    "                    $true { \n",
    "                        if ($ddbTables) {\n",
    "                            \n",
    "                            $Table = $ddbTables | Select-Object -First 1\n",
    "                            $ddbTable = Get-DDBTable -TableName $Table -ProfileName $Profile.ProfileName -Region $Region\n",
    "                            $AccountID  = (($ddbTable.TableArn | Select-String -Pattern $RegexAccountNumberDDb).Matches.Groups | Where-Object { $_.Name -eq $RegexGroup }).Value\n",
    "                        }else {\n",
    "\n",
    "                            $AccountID = 0\n",
    "                        }\n",
    "                    }\n",
    "                    $false {\n",
    "\n",
    "                        $RDSInstance   = $RDSInstances | Select-Object -First 1\n",
    "                        $AccountID  = (($RDSInstance.DBInstanceArn | Select-String -Pattern $RegexAccountNumber).Matches.Groups | Where-Object { $_.Name -eq $RegexGroup }).Value\n",
    "                    }\n",
    "                    default {\n",
    "\n",
    "                        $AccountID = 0\n",
    "                    }\n",
    "                }\n",
    "\n",
    "                $Sum = [PSCustomObject]@{\n",
    "\n",
    "                    Account             = (($Profile.ProfileName | select-string -Pattern $RegexAccountName).Matches.Groups | Where-Object { $_.Name -eq $RegexGroupAccountName }).Value\n",
    "                    AccountID           = $AccountID\n",
    "                    Region              = $Region\n",
    "                    RDSInstances        = ($RDSInstances.DBInstanceIdentifier | Measure-Object).Count\n",
    "                    DynamoDBTables      = $ddbTables.Count\n",
    "                    \n",
    "                }\n",
    "\n",
    "                $condition = $Sum.RDSInstances + $Sum.DynamoDBTables\n",
    "                if ($condition -gt 0) {\n",
    "                    $Summary += $Sum\n",
    "                }\n",
    "            }\n",
    "\n",
    "        }\n",
    "        \n",
    "    }\n",
    "    \n",
    "    end {\n",
    "\n",
    "        $Summary\n",
    "        \n",
    "    }\n",
    "}\n",
    "\n",
    "$Summary    = Get-AWSDBInformation $Profiles $Regions\n",
    "$Summary    | Format-Table -AutoSize"
   ]
  },
  {
   "cell_type": "code",
   "execution_count": 3,
   "metadata": {
    "dotnet_interactive": {
     "language": "pwsh"
    },
    "polyglot_notebook": {
     "kernelName": "pwsh"
    }
   },
   "outputs": [
    {
     "name": "stdout",
     "output_type": "stream",
     "text": [
      "\n",
      "\u001b[32;1mTableName                 \u001b[0m\u001b[32;1m CreationDateTime     \u001b[0m\u001b[32;1m ItemCount\u001b[0m\u001b[32;1m TableSizeBytes\u001b[0m\u001b[32;1m TableSizeMB\u001b[0m\u001b[32;1m TableStatus\u001b[0m\n",
      "\u001b[32;1m---------                 \u001b[0m \u001b[32;1m----------------     \u001b[0m \u001b[32;1m---------\u001b[0m \u001b[32;1m--------------\u001b[0m \u001b[32;1m-----------\u001b[0m \u001b[32;1m-----------\u001b[0m\n",
      "prod-accommodation         10/20/2023 1:11:55 PM    151530       29060289 28 MB       ACTIVE\n",
      "prod-apex_product_extras   2/2/2023 4:43:28 PM     5071428     1041059031 993 MB      ACTIVE\n",
      "prod-apex_translations     5/16/2024 10:06:42 AM      7743         735797 1 MB        ACTIVE\n",
      "prod-availability          10/20/2023 1:11:55 PM   3882740     2743664869 2617 MB     ACTIVE\n",
      "prod-bookability           10/20/2023 1:11:55 PM 117111222    32523228285 31017 MB    ACTIVE\n",
      "prod-novasol_currencies    2/2/2023 4:43:28 PM          38            498 0 MB        ACTIVE\n",
      "prod-novasol_product_cache 10/20/2023 1:11:55 PM    213274      203057925 194 MB      ACTIVE\n",
      "terraform-locks            7/8/2022 6:20:39 PM          89          12684 0 MB        ACTIVE\n",
      "\n"
     ]
    }
   ],
   "source": [
    "$ddbTableList = Get-DDBTableList -ProfileName DevOps-Apex-PROD\n",
    "\n",
    "$ddbTables  = @()\n",
    "foreach ($ddbTable in $ddbTableList) {\n",
    "    \n",
    "    $Table = Get-DDBTable -TableName $ddbTable -ProfileName DevOps-Apex-PROD\n",
    "\n",
    "    $Sum = [PSCustomObject]@{\n",
    "\n",
    "        TableName           = $Table.TableName\n",
    "        CreationDateTime    = $Table.CreationDateTime\n",
    "        ItemCount           = $Table.ItemCount\n",
    "        TableSizeBytes      = $Table.TableSizeBytes\n",
    "        TableSizeMB         = \"$([math]::round($($Table.TableSizeBytes /1MB), 0)) MB\"\n",
    "        TableStatus         = $Table.TableStatus\n",
    "        #TableId             = $Table.TableId\n",
    "        # KeySchema           = $Table.KeySchema\n",
    "        # GlobalSecondaryIndexes = $Table.GlobalSecondaryIndexes\n",
    "        \n",
    "    }\n",
    "    $ddbTables += $Sum\n",
    "}\n",
    "$ddbTables | Format-Table -AutoSize"
   ]
  }
 ],
 "metadata": {
  "kernelspec": {
   "display_name": ".NET (PowerShell)",
   "language": "PowerShell",
   "name": ".net-pwsh"
  },
  "polyglot_notebook": {
   "kernelInfo": {
    "defaultKernelName": "pwsh",
    "items": [
     {
      "aliases": [],
      "languageName": "pwsh",
      "name": "pwsh"
     }
    ]
   }
  }
 },
 "nbformat": 4,
 "nbformat_minor": 2
}
