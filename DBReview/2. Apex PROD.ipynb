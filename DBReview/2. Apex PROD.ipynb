{
 "cells": [
  {
   "cell_type": "markdown",
   "metadata": {},
   "source": [
    "# Apex - PROD"
   ]
  },
  {
   "cell_type": "markdown",
   "metadata": {},
   "source": [
    "### Account Summary"
   ]
  },
  {
   "cell_type": "code",
   "execution_count": 5,
   "metadata": {
    "dotnet_interactive": {
     "language": "pwsh"
    },
    "polyglot_notebook": {
     "kernelName": "pwsh"
    }
   },
   "outputs": [
    {
     "name": "stdout",
     "output_type": "stream",
     "text": [
      "\n",
      "\u001b[32;1mAccount  \u001b[0m\u001b[32;1m AccountID   \u001b[0m\u001b[32;1m Region   \u001b[0m\u001b[32;1m RDSInstances\u001b[0m\u001b[32;1m DynamoDBTables\u001b[0m\n",
      "\u001b[32;1m-------  \u001b[0m \u001b[32;1m---------   \u001b[0m \u001b[32;1m------   \u001b[0m \u001b[32;1m------------\u001b[0m \u001b[32;1m--------------\u001b[0m\n",
      "Apex-PROD 463854377715 eu-west-2            0              8\n",
      "\n"
     ]
    }
   ],
   "source": [
    "Import-Module AWS.Tools.Common, AWS.Tools.DynamoDBv2, AWS.Tools.RDS\n",
    "Import-Module '/Users/conrad.gauntlett/WorkArea/Repos/DBA_MISC/PowerShell/Modules/DevOpsToolkit'\n",
    "\n",
    "$Profiles   = Get-AWSCredentials -ListProfileDetail | Where-Object { $_.ProfileName -match 'DevOps-Apex-PROD' }\n",
    "$Regions    = \"eu-central-1\" , \"eu-west-2\" , \"eu-west-1\", \"us-east-1\"\n",
    "$Summary    = Get-DoAWSDBInformation $Profiles $Regions\n",
    "$Summary    | Format-Table -AutoSize"
   ]
  },
  {
   "cell_type": "markdown",
   "metadata": {},
   "source": [
    "### DynamoDB Tables"
   ]
  },
  {
   "cell_type": "code",
   "execution_count": 11,
   "metadata": {
    "dotnet_interactive": {
     "language": "pwsh"
    },
    "polyglot_notebook": {
     "kernelName": "pwsh"
    }
   },
   "outputs": [
    {
     "name": "stdout",
     "output_type": "stream",
     "text": [
      "\n",
      "\u001b[32;1mRegion   \u001b[0m\u001b[32;1m TableName                 \u001b[0m\u001b[32;1m TableBackup\u001b[0m\u001b[32;1m CreationDateTime     \u001b[0m\u001b[32;1m ItemCount\u001b[0m\u001b[32;1m TableSizeMB\u001b[0m\n",
      "\u001b[32;1m------   \u001b[0m \u001b[32;1m---------                 \u001b[0m \u001b[32;1m-----------\u001b[0m \u001b[32;1m----------------     \u001b[0m \u001b[32;1m---------\u001b[0m \u001b[32;1m-----------\u001b[0m\n",
      "eu-west-2 prod-accommodation               False 10/20/2023 1:11:55 PM    151632 28 MB\n",
      "eu-west-2 prod-apex_product_extras         False 2/2/2023 4:43:28 PM     5072420 993 MB\n",
      "eu-west-2 prod-apex_translations            True 5/16/2024 10:06:42 AM      7743 1 MB\n",
      "eu-west-2 prod-availability                False 10/20/2023 1:11:55 PM   3886385 2619 MB\n",
      "eu-west-2 prod-bookability                 False 10/20/2023 1:11:55 PM 117222287 31100 MB\n",
      "eu-west-2 prod-novasol_currencies          False 2/2/2023 4:43:28 PM          38 0 MB\n",
      "eu-west-2 prod-novasol_product_cache       False 10/20/2023 1:11:55 PM    213473 196 MB\n",
      "eu-west-2 terraform-locks                   True 7/8/2022 6:20:39 PM          89 0 MB\n",
      "\n"
     ]
    }
   ],
   "source": [
    "$ddbTables = Get-DoDDBTableInformation $Profiles $Regions \n",
    "$ddbTables | Format-Table -AutoSize"
   ]
  },
  {
   "cell_type": "markdown",
   "metadata": {},
   "source": [
    "#### Backups"
   ]
  },
  {
   "cell_type": "markdown",
   "metadata": {},
   "source": [
    "List Backups"
   ]
  },
  {
   "cell_type": "code",
   "execution_count": 7,
   "metadata": {
    "dotnet_interactive": {
     "language": "pwsh"
    },
    "polyglot_notebook": {
     "kernelName": "pwsh"
    }
   },
   "outputs": [
    {
     "name": "stdout",
     "output_type": "stream",
     "text": [
      "\n",
      "\u001b[32;1mTableName      \u001b[0m\u001b[32;1m BackupName            \u001b[0m\u001b[32;1m BackupCreationDateTime\u001b[0m\u001b[32;1m BackupStatus\u001b[0m\n",
      "\u001b[32;1m---------      \u001b[0m \u001b[32;1m----------            \u001b[0m \u001b[32;1m----------------------\u001b[0m \u001b[32;1m------------\u001b[0m\n",
      "terraform-locks terraform-locks-backup 7/11/2024 1:03:48 PM   AVAILABLE\n",
      "\n"
     ]
    }
   ],
   "source": [
    "$BackupsList    = Get-DDBBackupList -ProfileName $Profiles.ProfileName \n",
    "$Columns        = 'TableName', 'BackupName', 'BackupCreationDateTime',   'BackupStatus'#, 'BackupSizeBytes', 'BackupType' \n",
    "$BackupsList | Select-Object -Property $Columns | Format-Table -AutoSize"
   ]
  },
  {
   "cell_type": "markdown",
   "metadata": {},
   "source": [
    "Take A Backup"
   ]
  },
  {
   "cell_type": "code",
   "execution_count": 8,
   "metadata": {
    "dotnet_interactive": {
     "language": "pwsh"
    },
    "polyglot_notebook": {
     "kernelName": "pwsh"
    }
   },
   "outputs": [
    {
     "name": "stdout",
     "output_type": "stream",
     "text": [
      "\n",
      "\u001b[32;1mBackupArn              : \u001b[0marn:aws:dynamodb:eu-west-2:463854377715:table/prod-apex_translations/backu\n",
      "                         p/01721035568653-be782f73\n",
      "\u001b[32;1mBackupCreationDateTime : \u001b[0m7/15/2024 9:26:08 AM\n",
      "\u001b[32;1mBackupExpiryDateTime   : \u001b[0m1/1/0001 12:00:00 AM\n",
      "\u001b[32;1mBackupName             : \u001b[0mprod-apex_translations-Backup1\n",
      "\u001b[32;1mBackupSizeBytes        : \u001b[0m735797\n",
      "\u001b[32;1mBackupStatus           : \u001b[0mCREATING\n",
      "\u001b[32;1mBackupType             : \u001b[0mUSER\n",
      "\n"
     ]
    }
   ],
   "source": [
    "$Table = 'prod-apex_translations'\n",
    "$Backup = New-DDBBackup -TableName $Table -ProfileName DevOps-Apex-PROD -BackupName \"$Table-Backup1\"\n",
    "$Backup"
   ]
  },
  {
   "cell_type": "markdown",
   "metadata": {},
   "source": [
    "View Backup Details"
   ]
  },
  {
   "cell_type": "code",
   "execution_count": 9,
   "metadata": {
    "dotnet_interactive": {
     "language": "pwsh"
    },
    "polyglot_notebook": {
     "kernelName": "pwsh"
    }
   },
   "outputs": [
    {
     "name": "stdout",
     "output_type": "stream",
     "text": [
      "\n",
      "\u001b[32;1mBackupArn              : \u001b[0marn:aws:dynamodb:eu-west-2:463854377715:table/prod-apex_translations/backu\n",
      "                         p/01721035568653-be782f73\n",
      "\u001b[32;1mBackupCreationDateTime : \u001b[0m7/15/2024 9:26:08 AM\n",
      "\u001b[32;1mBackupExpiryDateTime   : \u001b[0m1/1/0001 12:00:00 AM\n",
      "\u001b[32;1mBackupName             : \u001b[0mprod-apex_translations-Backup1\n",
      "\u001b[32;1mBackupSizeBytes        : \u001b[0m735797\n",
      "\u001b[32;1mBackupStatus           : \u001b[0mAVAILABLE\n",
      "\u001b[32;1mBackupType             : \u001b[0mUSER\n",
      "\n"
     ]
    }
   ],
   "source": [
    "$Bk = Get-DDBBackup -BackupArn $Backup.BackupArn -ProfileName DevOps-Apex-PROD\n",
    "$Bk.BackupDetails"
   ]
  },
  {
   "cell_type": "markdown",
   "metadata": {},
   "source": [
    "List Backups"
   ]
  },
  {
   "cell_type": "code",
   "execution_count": 12,
   "metadata": {
    "dotnet_interactive": {
     "language": "pwsh"
    },
    "polyglot_notebook": {
     "kernelName": "pwsh"
    }
   },
   "outputs": [
    {
     "name": "stdout",
     "output_type": "stream",
     "text": [
      "\n",
      "\u001b[32;1mTableName             \u001b[0m\u001b[32;1m BackupName                    \u001b[0m\u001b[32;1m BackupCreationDateTime\u001b[0m\u001b[32;1m BackupStatus\u001b[0m\n",
      "\u001b[32;1m---------             \u001b[0m \u001b[32;1m----------                    \u001b[0m \u001b[32;1m----------------------\u001b[0m \u001b[32;1m------------\u001b[0m\n",
      "terraform-locks        terraform-locks-backup         7/11/2024 1:03:48 PM   AVAILABLE\n",
      "prod-apex_translations prod-apex_translations-Backup1 7/15/2024 9:26:08 AM   AVAILABLE\n",
      "\n"
     ]
    }
   ],
   "source": [
    "$BackupsList    = Get-DDBBackupList -ProfileName $Profiles.ProfileName \n",
    "$Columns        = 'TableName', 'BackupName', 'BackupCreationDateTime',   'BackupStatus'#, 'BackupSizeBytes', 'BackupType' \n",
    "$BackupsList | Select-Object -Property $Columns | Format-Table -AutoSize"
   ]
  }
 ],
 "metadata": {
  "kernelspec": {
   "display_name": ".NET (PowerShell)",
   "language": "PowerShell",
   "name": ".net-pwsh"
  },
  "polyglot_notebook": {
   "kernelInfo": {
    "defaultKernelName": "pwsh",
    "items": [
     {
      "aliases": [],
      "languageName": "pwsh",
      "name": "pwsh"
     }
    ]
   }
  }
 },
 "nbformat": 4,
 "nbformat_minor": 2
}
