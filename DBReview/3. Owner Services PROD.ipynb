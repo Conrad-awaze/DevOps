{
 "cells": [
  {
   "cell_type": "markdown",
   "metadata": {},
   "source": [
    "# Account - Owner Services PROD"
   ]
  },
  {
   "cell_type": "markdown",
   "metadata": {},
   "source": [
    "## Database Summary"
   ]
  },
  {
   "cell_type": "code",
   "execution_count": 1,
   "metadata": {
    "dotnet_interactive": {
     "language": "pwsh"
    },
    "polyglot_notebook": {
     "kernelName": "pwsh"
    }
   },
   "outputs": [
    {
     "name": "stdout",
     "output_type": "stream",
     "text": [
      "\n",
      "\u001b[32;1mAccount            \u001b[0m\u001b[32;1m AccountID   \u001b[0m\u001b[32;1m Region   \u001b[0m\u001b[32;1m RDSInstances\u001b[0m\u001b[32;1m DynamoDBTables\u001b[0m\n",
      "\u001b[32;1m-------            \u001b[0m \u001b[32;1m---------   \u001b[0m \u001b[32;1m------   \u001b[0m \u001b[32;1m------------\u001b[0m \u001b[32;1m--------------\u001b[0m\n",
      "Owner-Services-PROD 496175963148 eu-west-2            3              1\n",
      "\n"
     ]
    }
   ],
   "source": [
    "Import-Module AWS.Tools.Common, AWS.Tools.DynamoDBv2, AWS.Tools.RDS\n",
    "Import-Module '/Users/conrad.gauntlett/WorkArea/Repos/DBA_MISC/PowerShell/Modules/DevOpsToolkit'\n",
    "\n",
    "$Account            = 'DevOps-Owner-Services-PROD'\n",
    "$RDSSummaryColumns  = 'AvailabilityZone', 'DBSnapshotIdentifier', 'SnapshotCreateTime', 'SnapshotType', 'Status'\n",
    "$Profiles           = Get-AWSCredentials -ListProfileDetail | Where-Object { $_.ProfileName -match $Account }\n",
    "$Regions            = \"eu-central-1\" , \"eu-west-2\" , \"eu-west-1\", \"us-east-1\"\n",
    "$Summary            = Get-DoAWSDBInformation $Profiles $Regions\n",
    "$Summary | Format-Table -AutoSize"
   ]
  },
  {
   "cell_type": "markdown",
   "metadata": {},
   "source": [
    "### DynamoDB Tables"
   ]
  },
  {
   "cell_type": "code",
   "execution_count": 2,
   "metadata": {
    "dotnet_interactive": {
     "language": "pwsh"
    },
    "polyglot_notebook": {
     "kernelName": "pwsh"
    }
   },
   "outputs": [
    {
     "name": "stdout",
     "output_type": "stream",
     "text": [
      "\n",
      "\u001b[32;1mRegion   \u001b[0m\u001b[32;1m TableName      \u001b[0m\u001b[32;1m TableBackup\u001b[0m\u001b[32;1m CreationDateTime     \u001b[0m\u001b[32;1m ItemCount\u001b[0m\u001b[32;1m TableSizeMB\u001b[0m\n",
      "\u001b[32;1m------   \u001b[0m \u001b[32;1m---------      \u001b[0m \u001b[32;1m-----------\u001b[0m \u001b[32;1m----------------     \u001b[0m \u001b[32;1m---------\u001b[0m \u001b[32;1m-----------\u001b[0m\n",
      "eu-west-2 terraform-locks       False 12/12/2022 1:05:57 PM        70 0 MB\n",
      "\n"
     ]
    }
   ],
   "source": [
    "$ddbTables = Get-DoDDBTableInformation $Profiles $Regions \n",
    "$ddbTables | Format-Table -AutoSize"
   ]
  },
  {
   "cell_type": "markdown",
   "metadata": {},
   "source": [
    "### RDS Instances"
   ]
  },
  {
   "cell_type": "code",
   "execution_count": 3,
   "metadata": {
    "dotnet_interactive": {
     "language": "pwsh"
    },
    "polyglot_notebook": {
     "kernelName": "pwsh"
    }
   },
   "outputs": [
    {
     "name": "stdout",
     "output_type": "stream",
     "text": [
      "\n",
      "\u001b[32;1mRegion   \u001b[0m\u001b[32;1m DBInstanceIdentifier\u001b[0m\u001b[32;1m Engine  \u001b[0m\u001b[32;1m Version\u001b[0m\u001b[32;1m InstanceCreateTime  \u001b[0m\u001b[32;1m Snapshots\u001b[0m\u001b[32;1m Retention\u001b[0m\n",
      "\u001b[32;1m------   \u001b[0m \u001b[32;1m--------------------\u001b[0m \u001b[32;1m------  \u001b[0m \u001b[32;1m-------\u001b[0m \u001b[32;1m------------------  \u001b[0m \u001b[32;1m---------\u001b[0m \u001b[32;1m---------\u001b[0m\n",
      "eu-west-2 authenticationdbprod postgres 16.1    3/12/2024 8:57:35 AM        10         7\n",
      "eu-west-2 bookingdbprod        postgres 16.1    3/12/2024 9:02:23 AM        10         7\n",
      "eu-west-2 notificationdbprod   postgres 16.3    3/12/2024 8:57:15 AM        10         7\n",
      "\n"
     ]
    }
   ],
   "source": [
    "$RDS        = Get-DoRDSDBSummary $Profiles $Regions \n",
    "$Snapshots  = Get-DoRDSSnapshotSummary $Profiles $Regions\n",
    "$RDS | Format-Table -AutoSize"
   ]
  },
  {
   "cell_type": "markdown",
   "metadata": {},
   "source": [
    "#### Snapshots"
   ]
  },
  {
   "cell_type": "markdown",
   "metadata": {},
   "source": [
    "##### authenticationdbprod"
   ]
  },
  {
   "cell_type": "code",
   "execution_count": 4,
   "metadata": {
    "dotnet_interactive": {
     "language": "pwsh"
    },
    "polyglot_notebook": {
     "kernelName": "pwsh"
    }
   },
   "outputs": [
    {
     "name": "stdout",
     "output_type": "stream",
     "text": [
      "\n",
      "\u001b[32;1mAvailabilityZone\u001b[0m\u001b[32;1m DBSnapshotIdentifier                     \u001b[0m\u001b[32;1m SnapshotCreateTime  \u001b[0m\u001b[32;1m SnapshotType\u001b[0m\u001b[32;1m Status\u001b[0m\n",
      "\u001b[32;1m----------------\u001b[0m \u001b[32;1m--------------------                     \u001b[0m \u001b[32;1m------------------  \u001b[0m \u001b[32;1m------------\u001b[0m \u001b[32;1m------\u001b[0m\n",
      "eu-west-2c       rds:authenticationdbprod-2024-07-15-02-56 7/15/2024 3:56:45 AM automated    avail…\n",
      "eu-west-2c       rds:authenticationdbprod-2024-07-14-02-56 7/14/2024 3:56:58 AM automated    avail…\n",
      "eu-west-2c       rds:authenticationdbprod-2024-07-13-02-56 7/13/2024 3:56:42 AM automated    avail…\n",
      "eu-west-2c       rds:authenticationdbprod-2024-07-12-02-57 7/12/2024 3:57:18 AM automated    avail…\n",
      "eu-west-2c       rds:authenticationdbprod-2024-07-11-02-56 7/11/2024 3:56:46 AM automated    avail…\n",
      "eu-west-2c       rds:authenticationdbprod-2024-07-10-02-56 7/10/2024 3:56:55 AM automated    avail…\n",
      "eu-west-2c       rds:authenticationdbprod-2024-07-09-02-56 7/9/2024 3:56:51 AM  automated    avail…\n",
      "eu-west-2c       rds:authenticationdbprod-2024-07-08-02-56 7/8/2024 3:56:40 AM  automated    avail…\n",
      "eu-west-2c       rds:authenticationdbprod-2024-07-07-02-56 7/7/2024 3:56:51 AM  automated    avail…\n",
      "eu-west-2c       authenticationdbprod-snapshot             3/12/2024 8:27:02 AM manual       avail…\n",
      "\n"
     ]
    }
   ],
   "source": [
    "$DB = 'authenticationdbprod'\n",
    "$Snapshots | Where-Object {$_.DBInstanceIdentifier -eq $DB} | Select-Object $RDSSummaryColumns |\n",
    "Sort-Object SnapshotCreateTime -Descending  |Format-Table -AutoSize"
   ]
  },
  {
   "cell_type": "markdown",
   "metadata": {},
   "source": [
    "##### bookingdbprod"
   ]
  },
  {
   "cell_type": "code",
   "execution_count": 5,
   "metadata": {
    "dotnet_interactive": {
     "language": "pwsh"
    },
    "polyglot_notebook": {
     "kernelName": "pwsh"
    }
   },
   "outputs": [
    {
     "name": "stdout",
     "output_type": "stream",
     "text": [
      "\n",
      "\u001b[32;1mAvailabilityZone\u001b[0m\u001b[32;1m DBSnapshotIdentifier              \u001b[0m\u001b[32;1m SnapshotCreateTime  \u001b[0m\u001b[32;1m SnapshotType\u001b[0m\u001b[32;1m Status\u001b[0m\n",
      "\u001b[32;1m----------------\u001b[0m \u001b[32;1m--------------------              \u001b[0m \u001b[32;1m------------------  \u001b[0m \u001b[32;1m------------\u001b[0m \u001b[32;1m------\u001b[0m\n",
      "eu-west-2c       rds:bookingdbprod-2024-07-15-04-56 7/15/2024 5:56:18 AM automated    available\n",
      "eu-west-2c       rds:bookingdbprod-2024-07-14-04-56 7/14/2024 5:56:49 AM automated    available\n",
      "eu-west-2c       rds:bookingdbprod-2024-07-13-04-56 7/13/2024 5:56:42 AM automated    available\n",
      "eu-west-2c       rds:bookingdbprod-2024-07-12-04-56 7/12/2024 5:56:45 AM automated    available\n",
      "eu-west-2c       rds:bookingdbprod-2024-07-11-04-56 7/11/2024 5:56:58 AM automated    available\n",
      "eu-west-2c       rds:bookingdbprod-2024-07-10-04-56 7/10/2024 5:56:56 AM automated    available\n",
      "eu-west-2c       rds:bookingdbprod-2024-07-09-04-56 7/9/2024 5:56:49 AM  automated    available\n",
      "eu-west-2c       rds:bookingdbprod-2024-07-08-04-56 7/8/2024 5:56:57 AM  automated    available\n",
      "eu-west-2c       rds:bookingdbprod-2024-07-07-04-56 7/7/2024 5:56:59 AM  automated    available\n",
      "eu-west-2a       bookingdbprod-snapshot             3/12/2024 8:38:57 AM manual       available\n",
      "\n"
     ]
    }
   ],
   "source": [
    "$DB = 'bookingdbprod'\n",
    "$Snapshots | Where-Object {$_.DBInstanceIdentifier -eq $DB} | Select-Object $RDSSummaryColumns |\n",
    "Sort-Object SnapshotCreateTime -Descending  |Format-Table -AutoSize"
   ]
  },
  {
   "cell_type": "markdown",
   "metadata": {},
   "source": [
    "##### notificationdbprod"
   ]
  },
  {
   "cell_type": "code",
   "execution_count": 6,
   "metadata": {
    "dotnet_interactive": {
     "language": "pwsh"
    },
    "polyglot_notebook": {
     "kernelName": "pwsh"
    }
   },
   "outputs": [
    {
     "name": "stdout",
     "output_type": "stream",
     "text": [
      "\n",
      "\u001b[32;1mAvailabilityZone\u001b[0m\u001b[32;1m DBSnapshotIdentifier                   \u001b[0m\u001b[32;1m SnapshotCreateTime  \u001b[0m\u001b[32;1m SnapshotType\u001b[0m\u001b[32;1m Status\u001b[0m\n",
      "\u001b[32;1m----------------\u001b[0m \u001b[32;1m--------------------                   \u001b[0m \u001b[32;1m------------------  \u001b[0m \u001b[32;1m------------\u001b[0m \u001b[32;1m------\u001b[0m\n",
      "eu-west-2b       rds:notificationdbprod-2024-07-15-00-20 7/15/2024 1:20:38 AM automated    availab…\n",
      "eu-west-2b       rds:notificationdbprod-2024-07-14-00-20 7/14/2024 1:20:45 AM automated    availab…\n",
      "eu-west-2b       rds:notificationdbprod-2024-07-13-00-20 7/13/2024 1:20:33 AM automated    availab…\n",
      "eu-west-2b       rds:notificationdbprod-2024-07-12-00-20 7/12/2024 1:20:25 AM automated    availab…\n",
      "eu-west-2b       rds:notificationdbprod-2024-07-11-00-20 7/11/2024 1:20:29 AM automated    availab…\n",
      "eu-west-2b       rds:notificationdbprod-2024-07-10-00-20 7/10/2024 1:20:46 AM automated    availab…\n",
      "eu-west-2b       rds:notificationdbprod-2024-07-09-00-20 7/9/2024 1:20:43 AM  automated    availab…\n",
      "eu-west-2b       rds:notificationdbprod-2024-07-08-00-21 7/8/2024 1:21:16 AM  automated    availab…\n",
      "eu-west-2b       rds:notificationdbprod-2024-07-07-00-20 7/7/2024 1:20:33 AM  automated    availab…\n",
      "eu-west-2c       notificationdbprod-snapshot             3/12/2024 8:39:20 AM manual       availab…\n",
      "\n"
     ]
    }
   ],
   "source": [
    "$DB = 'notificationdbprod'\n",
    "$Snapshots | Where-Object {$_.DBInstanceIdentifier -eq $DB} | Select-Object $RDSSummaryColumns |\n",
    "Sort-Object SnapshotCreateTime -Descending  |Format-Table -AutoSize"
   ]
  }
 ],
 "metadata": {
  "kernelspec": {
   "display_name": ".NET (PowerShell)",
   "language": "PowerShell",
   "name": ".net-pwsh"
  },
  "polyglot_notebook": {
   "kernelInfo": {
    "defaultKernelName": "pwsh",
    "items": [
     {
      "aliases": [],
      "languageName": "pwsh",
      "name": "pwsh"
     }
    ]
   }
  }
 },
 "nbformat": 4,
 "nbformat_minor": 2
}
