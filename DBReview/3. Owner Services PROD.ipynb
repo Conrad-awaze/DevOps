{
 "cells": [
  {
   "cell_type": "markdown",
   "metadata": {},
   "source": [
    "# Owner Services PROD"
   ]
  },
  {
   "cell_type": "markdown",
   "metadata": {},
   "source": [
    "### Account Summary"
   ]
  },
  {
   "cell_type": "code",
   "execution_count": 13,
   "metadata": {
    "dotnet_interactive": {
     "language": "pwsh"
    },
    "polyglot_notebook": {
     "kernelName": "pwsh"
    }
   },
   "outputs": [
    {
     "name": "stdout",
     "output_type": "stream",
     "text": [
      "\n",
      "\u001b[32;1mAccount            \u001b[0m\u001b[32;1m AccountID   \u001b[0m\u001b[32;1m Region   \u001b[0m\u001b[32;1m RDSInstances\u001b[0m\u001b[32;1m DynamoDBTables\u001b[0m\n",
      "\u001b[32;1m-------            \u001b[0m \u001b[32;1m---------   \u001b[0m \u001b[32;1m------   \u001b[0m \u001b[32;1m------------\u001b[0m \u001b[32;1m--------------\u001b[0m\n",
      "Owner-Services-PROD 496175963148 eu-west-2            3              1\n",
      "\n"
     ]
    }
   ],
   "source": [
    "Import-Module AWS.Tools.Common\n",
    "Import-Module AWS.Tools.DynamoDBv2\n",
    "Import-Module AWS.Tools.RDS\n",
    "\n",
    "$RegexGroup             = 'AccountNumber'\n",
    "$RegexGroupAccountName  = 'AccountName'\n",
    "$RegexAccountNumber     = \"(?<$RegexGroup>\\d+):db.+$\"\n",
    "$RegexAccountNumberDDb  = \"(?<$RegexGroup>\\d+):table.+$\" \n",
    "$RegexAccountName       = \"(?<PreFix>DevOps-)(?<$RegexGroupAccountName>.+)\"\n",
    "$Profiles               = Get-AWSCredentials -ListProfileDetail | Where-Object { $_.ProfileName -match 'DevOps-Owner-Services-PROD' }\n",
    "$Regions                = \"eu-central-1\" , \"eu-west-2\" , \"eu-west-1\", \"us-east-1\"\n",
    "\n",
    "function Get-AWSDBInformation {\n",
    "    [CmdletBinding()]\n",
    "    param (\n",
    "        $Profiles,\n",
    "        $Regions\n",
    "    )\n",
    "    \n",
    "    begin {\n",
    "\n",
    "        $Summary    = @()\n",
    "        \n",
    "    }\n",
    "    \n",
    "    process {\n",
    "\n",
    "        $Summary    = @()\n",
    "        foreach ($Profile in $Profiles) {\n",
    "\n",
    "            foreach ($Region in $Regions) {\n",
    "                \n",
    "                $RDSInstances   = Get-RDSDBInstance -ProfileName $Profile.ProfileName -Region $Region\n",
    "                $ddbTables      = Get-DDBTableList -ProfileName $Profile.ProfileName -Region $Region\n",
    "\n",
    "                switch ([string]::IsNullOrEmpty($RDSInstances)) {\n",
    "                    $true { \n",
    "                        if ($ddbTables) {\n",
    "                            \n",
    "                            $Table = $ddbTables | Select-Object -First 1\n",
    "                            $ddbTable = Get-DDBTable -TableName $Table -ProfileName $Profile.ProfileName -Region $Region\n",
    "                            $AccountID  = (($ddbTable.TableArn | Select-String -Pattern $RegexAccountNumberDDb).Matches.Groups | Where-Object { $_.Name -eq $RegexGroup }).Value\n",
    "                        }else {\n",
    "\n",
    "                            $AccountID = 0\n",
    "                        }\n",
    "                    }\n",
    "                    $false {\n",
    "\n",
    "                        $RDSInstance   = $RDSInstances | Select-Object -First 1\n",
    "                        $AccountID  = (($RDSInstance.DBInstanceArn | Select-String -Pattern $RegexAccountNumber).Matches.Groups | Where-Object { $_.Name -eq $RegexGroup }).Value\n",
    "                    }\n",
    "                    default {\n",
    "\n",
    "                        $AccountID = 0\n",
    "                    }\n",
    "                }\n",
    "\n",
    "                $Sum = [PSCustomObject]@{\n",
    "\n",
    "                    Account             = (($Profile.ProfileName | select-string -Pattern $RegexAccountName).Matches.Groups | Where-Object { $_.Name -eq $RegexGroupAccountName }).Value\n",
    "                    AccountID           = $AccountID\n",
    "                    Region              = $Region\n",
    "                    RDSInstances        = ($RDSInstances.DBInstanceIdentifier | Measure-Object).Count\n",
    "                    DynamoDBTables      = $ddbTables.Count\n",
    "                    \n",
    "                }\n",
    "\n",
    "                $condition = $Sum.RDSInstances + $Sum.DynamoDBTables\n",
    "                if ($condition -gt 0) {\n",
    "                    $Summary += $Sum\n",
    "                }\n",
    "            }\n",
    "\n",
    "        }\n",
    "        \n",
    "    }\n",
    "    \n",
    "    end {\n",
    "\n",
    "        $Summary\n",
    "        \n",
    "    }\n",
    "}\n",
    "\n",
    "$Summary    = Get-AWSDBInformation $Profiles $Regions\n",
    "$Summary    | Format-Table -AutoSize"
   ]
  },
  {
   "cell_type": "markdown",
   "metadata": {},
   "source": [
    "### DynamoDB Tables"
   ]
  },
  {
   "cell_type": "code",
   "execution_count": 14,
   "metadata": {
    "dotnet_interactive": {
     "language": "pwsh"
    },
    "polyglot_notebook": {
     "kernelName": "pwsh"
    }
   },
   "outputs": [
    {
     "name": "stdout",
     "output_type": "stream",
     "text": [
      "\n",
      "\u001b[32;1mTableName      \u001b[0m\u001b[32;1m TableBackup\u001b[0m\u001b[32;1m CreationDateTime     \u001b[0m\u001b[32;1m ItemCount\u001b[0m\u001b[32;1m TableSizeMB\u001b[0m\u001b[32;1m TableStatus\u001b[0m\n",
      "\u001b[32;1m---------      \u001b[0m \u001b[32;1m-----------\u001b[0m \u001b[32;1m----------------     \u001b[0m \u001b[32;1m---------\u001b[0m \u001b[32;1m-----------\u001b[0m \u001b[32;1m-----------\u001b[0m\n",
      "terraform-locks       False 12/12/2022 1:05:57 PM        70 0 MB        ACTIVE\n",
      "\n"
     ]
    }
   ],
   "source": [
    "$ddbBackupList  = Get-DDBBackupList -ProfileName $Profiles.ProfileName\n",
    "$ddbTableList   = Get-DDBTableList -ProfileName $Profiles.ProfileName\n",
    "\n",
    "$ddbTables  = @()\n",
    "foreach ($ddbTable in $ddbTableList) {\n",
    "    \n",
    "    $Table = Get-DDBTable -TableName $ddbTable -ProfileName $Profiles.ProfileName\n",
    "\n",
    "    if ($ddbBackupList) {\n",
    "        \n",
    "        $BackupAvailable = $ddbBackupList.TableName.Contains(\"$($Table.TableName)\")\n",
    "    }\n",
    "    else {\n",
    "\n",
    "        $BackupAvailable = $false\n",
    "    }\n",
    "    \n",
    "\n",
    "    $Sum = [PSCustomObject]@{\n",
    "\n",
    "        TableName           = $Table.TableName\n",
    "        TableBackup         = $BackupAvailable\n",
    "        CreationDateTime    = $Table.CreationDateTime\n",
    "        ItemCount           = $Table.ItemCount\n",
    "        # TableSizeBytes      = $Table.TableSizeBytes\n",
    "        TableSizeMB         = \"$([math]::round($($Table.TableSizeBytes /1MB), 0)) MB\"\n",
    "        TableStatus         = $Table.TableStatus\n",
    "        # TableId             = $Table.TableId\n",
    "        # KeySchema           = $Table.KeySchema\n",
    "        # GlobalSecondaryIndexes = $Table.GlobalSecondaryIndexes\n",
    "        \n",
    "    }\n",
    "    $ddbTables += $Sum\n",
    "}\n",
    "$ddbTables | Format-Table -AutoSize"
   ]
  },
  {
   "cell_type": "markdown",
   "metadata": {},
   "source": [
    "### RDS Databases"
   ]
  },
  {
   "cell_type": "code",
   "execution_count": 15,
   "metadata": {
    "dotnet_interactive": {
     "language": "pwsh"
    },
    "polyglot_notebook": {
     "kernelName": "pwsh"
    }
   },
   "outputs": [
    {
     "name": "stdout",
     "output_type": "stream",
     "text": [
      "\n",
      "\u001b[32;1mDBInstanceIdentifier\u001b[0m\u001b[32;1m Engine  \u001b[0m\u001b[32;1m EngineVersion\u001b[0m\u001b[32;1m InstanceCreateTime  \u001b[0m\u001b[32;1m BackupRetention\u001b[0m\u001b[32;1m Snapshots\u001b[0m\n",
      "\u001b[32;1m--------------------\u001b[0m \u001b[32;1m------  \u001b[0m \u001b[32;1m-------------\u001b[0m \u001b[32;1m------------------  \u001b[0m \u001b[32;1m---------------\u001b[0m \u001b[32;1m---------\u001b[0m\n",
      "authenticationdbprod postgres 16.1          3/12/2024 8:57:35 AM               7        10\n",
      "bookingdbprod        postgres 16.1          3/12/2024 9:02:23 AM               7         9\n",
      "notificationdbprod   postgres 16.3          3/12/2024 8:57:15 AM               7        10\n",
      "\n"
     ]
    }
   ],
   "source": [
    "$RDSInstances = Get-RDSDBInstance -ProfileName $Profiles.ProfileName -Region eu-west-2\n",
    "\n",
    "$Inst = @()\n",
    "foreach ($Instance in $RDSInstances) {\n",
    "    \n",
    "    $DBInstanceArn      = $Instance.DBInstanceArn\n",
    "    # $Tags               = Get-RDSTagForResource -ResourceName $DBInstanceArn -ProfileName $Profile.ProfileName\n",
    "    $Snapshots          = Get-RDSDBSnapshot -ProfileName $Profiles.ProfileName -DBInstanceIdentifier $DBInstanceArn\n",
    "    #$DBClusterSnapshots = Get-RDSDBClusterSnapshot -ProfileName $Profile.ProfileName -DBClusterIdentifier $DBInstanceArn\n",
    "\n",
    "    $Sum = [PSCustomObject]@{\n",
    "\n",
    "        #DBName                  = $Instance.DBName\n",
    "        DBInstanceIdentifier    = $Instance.DBInstanceIdentifier\n",
    "        Engine                  = $Instance.Engine\n",
    "        EngineVersion           = $Instance.EngineVersion\n",
    "        InstanceCreateTime      = $Instance.InstanceCreateTime\n",
    "        #DBInstanceClass         = $Instance.DBInstanceClass\n",
    "        BackupRetention         = $Instance.BackupRetentionPeriod\n",
    "        #StorageThroughput       = $Instance.StorageThroughput\n",
    "        #Tags                    = $Tags\n",
    "        Snapshots               = ($Snapshots | Measure-Object).Count\n",
    "        #DBClusterSnapshots      = ($DBClusterSnapshots | Measure-Object).Count\n",
    "        \n",
    "    }\n",
    "    $Inst += $Sum\n",
    "    \n",
    "}\n",
    "$Inst | Format-Table -AutoSize"
   ]
  }
 ],
 "metadata": {
  "kernelspec": {
   "display_name": ".NET (PowerShell)",
   "language": "PowerShell",
   "name": ".net-pwsh"
  },
  "polyglot_notebook": {
   "kernelInfo": {
    "defaultKernelName": "pwsh",
    "items": [
     {
      "aliases": [],
      "languageName": "pwsh",
      "name": "pwsh"
     }
    ]
   }
  }
 },
 "nbformat": 4,
 "nbformat_minor": 2
}
