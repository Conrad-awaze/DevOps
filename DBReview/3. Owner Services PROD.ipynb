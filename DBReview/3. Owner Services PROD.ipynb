{
 "cells": [
  {
   "cell_type": "markdown",
   "metadata": {},
   "source": [
    "# Account - Owner Services PROD"
   ]
  },
  {
   "cell_type": "markdown",
   "metadata": {},
   "source": [
    "## Database Summary"
   ]
  },
  {
   "cell_type": "code",
   "execution_count": 7,
   "metadata": {
    "dotnet_interactive": {
     "language": "pwsh"
    },
    "polyglot_notebook": {
     "kernelName": "pwsh"
    }
   },
   "outputs": [
    {
     "name": "stdout",
     "output_type": "stream",
     "text": [
      "\n",
      "\u001b[32;1mAccount            \u001b[0m\u001b[32;1m AccountID   \u001b[0m\u001b[32;1m Region   \u001b[0m\u001b[32;1m RDSInstances\u001b[0m\u001b[32;1m DynamoDBTables\u001b[0m\n",
      "\u001b[32;1m-------            \u001b[0m \u001b[32;1m---------   \u001b[0m \u001b[32;1m------   \u001b[0m \u001b[32;1m------------\u001b[0m \u001b[32;1m--------------\u001b[0m\n",
      "Owner-Services-PROD 496175963148 eu-west-2            3              1\n",
      "\n"
     ]
    }
   ],
   "source": [
    "Import-Module AWS.Tools.Common\n",
    "Import-Module AWS.Tools.DynamoDBv2\n",
    "Import-Module AWS.Tools.RDS\n",
    "\n",
    "$Profiles   = Get-AWSCredentials -ListProfileDetail | Where-Object { $_.ProfileName -match 'DevOps-Owner-Services-PROD' }\n",
    "$Regions    = \"eu-central-1\" , \"eu-west-2\" , \"eu-west-1\", \"us-east-1\"\n",
    "\n",
    "function Get-AWSDBInformation {\n",
    "    [CmdletBinding()]\n",
    "    param (\n",
    "\n",
    "        $Profiles,\n",
    "        $Regions,\n",
    "        $RegexGroup             = 'AccountNumber',\n",
    "        $RegexGroupAccountName  = 'AccountName',\n",
    "        $RegexAccountNumber     = \"(?<$RegexGroup>\\d+):db.+$\",\n",
    "        $RegexAccountNumberDDb  = \"(?<$RegexGroup>\\d+):table.+$\", \n",
    "        $RegexAccountName       = \"(?<PreFix>DevOps-)(?<$RegexGroupAccountName>.+)\"\n",
    "    )\n",
    "    \n",
    "    begin {\n",
    "\n",
    "        $Summary    = @()\n",
    "        \n",
    "    }\n",
    "    \n",
    "    process {\n",
    "\n",
    "        $Summary    = @()\n",
    "        foreach ($Profile in $Profiles) {\n",
    "\n",
    "            foreach ($Region in $Regions) {\n",
    "                \n",
    "                $RDSInstances   = Get-RDSDBInstance -ProfileName $Profile.ProfileName -Region $Region\n",
    "                $ddbTables      = Get-DDBTableList -ProfileName $Profile.ProfileName -Region $Region\n",
    "\n",
    "                switch ([string]::IsNullOrEmpty($RDSInstances)) {\n",
    "                    $true { \n",
    "                        if ($ddbTables) {\n",
    "                            \n",
    "                            $Table = $ddbTables | Select-Object -First 1\n",
    "                            $ddbTable = Get-DDBTable -TableName $Table -ProfileName $Profile.ProfileName -Region $Region\n",
    "                            $AccountID  = (($ddbTable.TableArn | Select-String -Pattern $RegexAccountNumberDDb).Matches.Groups | Where-Object { $_.Name -eq $RegexGroup }).Value\n",
    "                        }else {\n",
    "\n",
    "                            $AccountID = 0\n",
    "                        }\n",
    "                    }\n",
    "                    $false {\n",
    "\n",
    "                        $RDSInstance   = $RDSInstances | Select-Object -First 1\n",
    "                        $AccountID  = (($RDSInstance.DBInstanceArn | Select-String -Pattern $RegexAccountNumber).Matches.Groups | Where-Object { $_.Name -eq $RegexGroup }).Value\n",
    "                    }\n",
    "                    default {\n",
    "\n",
    "                        $AccountID = 0\n",
    "                    }\n",
    "                }\n",
    "\n",
    "                $Sum = [PSCustomObject]@{\n",
    "\n",
    "                    Account             = (($Profile.ProfileName | select-string -Pattern $RegexAccountName).Matches.Groups | Where-Object { $_.Name -eq $RegexGroupAccountName }).Value\n",
    "                    AccountID           = $AccountID\n",
    "                    Region              = $Region\n",
    "                    RDSInstances        = ($RDSInstances.DBInstanceIdentifier | Measure-Object).Count\n",
    "                    DynamoDBTables      = $ddbTables.Count\n",
    "                    \n",
    "                }\n",
    "\n",
    "                $condition = $Sum.RDSInstances + $Sum.DynamoDBTables\n",
    "                if ($condition -gt 0) {\n",
    "                    $Summary += $Sum\n",
    "                }\n",
    "            }\n",
    "\n",
    "        }\n",
    "        \n",
    "    }\n",
    "    \n",
    "    end {\n",
    "\n",
    "        $Summary\n",
    "        \n",
    "    }\n",
    "}\n",
    "\n",
    "$Summary    = Get-AWSDBInformation $Profiles $Regions\n",
    "$Summary    | Format-Table -AutoSize"
   ]
  },
  {
   "cell_type": "markdown",
   "metadata": {},
   "source": [
    "### DynamoDB Tables"
   ]
  },
  {
   "cell_type": "code",
   "execution_count": 8,
   "metadata": {
    "dotnet_interactive": {
     "language": "pwsh"
    },
    "polyglot_notebook": {
     "kernelName": "pwsh"
    }
   },
   "outputs": [
    {
     "name": "stdout",
     "output_type": "stream",
     "text": [
      "\n",
      "\u001b[32;1mTableName      \u001b[0m\u001b[32;1m TableBackup\u001b[0m\u001b[32;1m CreationDateTime     \u001b[0m\u001b[32;1m ItemCount\u001b[0m\u001b[32;1m TableSizeMB\u001b[0m\u001b[32;1m TableStatus\u001b[0m\n",
      "\u001b[32;1m---------      \u001b[0m \u001b[32;1m-----------\u001b[0m \u001b[32;1m----------------     \u001b[0m \u001b[32;1m---------\u001b[0m \u001b[32;1m-----------\u001b[0m \u001b[32;1m-----------\u001b[0m\n",
      "terraform-locks       False 12/12/2022 1:05:57 PM        70 0 MB        ACTIVE\n",
      "\n"
     ]
    }
   ],
   "source": [
    "$ddbBackupList  = Get-DDBBackupList -ProfileName $Profiles.ProfileName\n",
    "$ddbTableList   = Get-DDBTableList -ProfileName $Profiles.ProfileName\n",
    "\n",
    "$ddbTables  = @()\n",
    "foreach ($ddbTable in $ddbTableList) {\n",
    "    \n",
    "    $Table = Get-DDBTable -TableName $ddbTable -ProfileName $Profiles.ProfileName\n",
    "\n",
    "    if ($ddbBackupList) {\n",
    "        \n",
    "        $BackupAvailable = $ddbBackupList.TableName.Contains(\"$($Table.TableName)\")\n",
    "    }\n",
    "    else {\n",
    "\n",
    "        $BackupAvailable = $false\n",
    "    }\n",
    "    \n",
    "\n",
    "    $Sum = [PSCustomObject]@{\n",
    "\n",
    "        TableName           = $Table.TableName\n",
    "        TableBackup         = $BackupAvailable\n",
    "        CreationDateTime    = $Table.CreationDateTime\n",
    "        ItemCount           = $Table.ItemCount\n",
    "        # TableSizeBytes      = $Table.TableSizeBytes\n",
    "        TableSizeMB         = \"$([math]::round($($Table.TableSizeBytes /1MB), 0)) MB\"\n",
    "        TableStatus         = $Table.TableStatus\n",
    "        # TableId             = $Table.TableId\n",
    "        # KeySchema           = $Table.KeySchema\n",
    "        # GlobalSecondaryIndexes = $Table.GlobalSecondaryIndexes\n",
    "        \n",
    "    }\n",
    "    $ddbTables += $Sum\n",
    "}\n",
    "$ddbTables | Format-Table -AutoSize"
   ]
  },
  {
   "cell_type": "markdown",
   "metadata": {},
   "source": [
    "### RDS Instances"
   ]
  },
  {
   "cell_type": "code",
   "execution_count": 9,
   "metadata": {
    "dotnet_interactive": {
     "language": "pwsh"
    },
    "polyglot_notebook": {
     "kernelName": "pwsh"
    }
   },
   "outputs": [
    {
     "name": "stdout",
     "output_type": "stream",
     "text": [
      "\n",
      "\u001b[32;1mDBInstanceIdentifier\u001b[0m\u001b[32;1m Engine  \u001b[0m\u001b[32;1m EngineVersion\u001b[0m\u001b[32;1m InstanceCreateTime  \u001b[0m\u001b[32;1m BackupRetention\u001b[0m\u001b[32;1m Snapshots\u001b[0m\n",
      "\u001b[32;1m--------------------\u001b[0m \u001b[32;1m------  \u001b[0m \u001b[32;1m-------------\u001b[0m \u001b[32;1m------------------  \u001b[0m \u001b[32;1m---------------\u001b[0m \u001b[32;1m---------\u001b[0m\n",
      "authenticationdbprod postgres 16.1          3/12/2024 8:57:35 AM               7        10\n",
      "bookingdbprod        postgres 16.1          3/12/2024 9:02:23 AM               7         9\n",
      "notificationdbprod   postgres 16.3          3/12/2024 8:57:15 AM               7        10\n",
      "\n"
     ]
    }
   ],
   "source": [
    "$RDSInstances = Get-RDSDBInstance -ProfileName $Profiles.ProfileName -Region eu-west-2\n",
    "\n",
    "$Inst = @()\n",
    "$Snap = @()\n",
    "$Snapshots = @()\n",
    "foreach ($Instance in $RDSInstances) {\n",
    "    \n",
    "    $DBInstanceArn      = $Instance.DBInstanceArn\n",
    "    # $Tags               = Get-RDSTagForResource -ResourceName $DBInstanceArn -ProfileName $Profile.ProfileName\n",
    "    $Shots          = Get-RDSDBSnapshot -ProfileName $Profiles.ProfileName -DBInstanceIdentifier $DBInstanceArn\n",
    "    #$DBClusterSnapshots = Get-RDSDBClusterSnapshot -ProfileName $Profile.ProfileName -DBClusterIdentifier $DBInstanceArn\n",
    "\n",
    "    $Sum = [PSCustomObject]@{\n",
    "\n",
    "        #DBName                  = $Instance.DBName\n",
    "        DBInstanceIdentifier    = $Instance.DBInstanceIdentifier\n",
    "        Engine                  = $Instance.Engine\n",
    "        EngineVersion           = $Instance.EngineVersion\n",
    "        InstanceCreateTime      = $Instance.InstanceCreateTime\n",
    "        #DBInstanceClass         = $Instance.DBInstanceClass\n",
    "        BackupRetention         = $Instance.BackupRetentionPeriod\n",
    "        #StorageThroughput       = $Instance.StorageThroughput\n",
    "        #Tags                    = $Tags\n",
    "        Snapshots               = ($Shots | Measure-Object).Count\n",
    "        #DBClusterSnapshots      = ($DBClusterSnapshots | Measure-Object).Count\n",
    "        \n",
    "    }\n",
    "    $Inst += $Sum\n",
    "    $Snapshots += $Shots\n",
    "    \n",
    "}\n",
    "\n",
    "$Snapshots | ForEach-Object {\n",
    "\n",
    "    $Sum = [PSCustomObject]@{\n",
    "\n",
    "        DBInstanceIdentifier    = $_.DBInstanceIdentifier\n",
    "        DBSnapshotIdentifier    = $_.DBSnapshotIdentifier\n",
    "        SnapshotCreateTime      = $_.SnapshotCreateTime\n",
    "        Engine                  = $_.Engine\n",
    "        SnapshotType            = $_.SnapshotType\n",
    "        Status                  = $_.Status\n",
    "        \n",
    "    }\n",
    "    $Snap += $Sum\n",
    "}\n",
    "$Inst | Format-Table -AutoSize"
   ]
  },
  {
   "cell_type": "markdown",
   "metadata": {},
   "source": [
    "#### Snapshots"
   ]
  },
  {
   "cell_type": "markdown",
   "metadata": {},
   "source": [
    "##### authenticationdbprod"
   ]
  },
  {
   "cell_type": "code",
   "execution_count": 10,
   "metadata": {
    "dotnet_interactive": {
     "language": "pwsh"
    },
    "polyglot_notebook": {
     "kernelName": "pwsh"
    }
   },
   "outputs": [
    {
     "name": "stdout",
     "output_type": "stream",
     "text": [
      "\n",
      "\u001b[32;1mDBSnapshotIdentifier                     \u001b[0m\u001b[32;1m SnapshotCreateTime  \u001b[0m\u001b[32;1m SnapshotType\u001b[0m\u001b[32;1m Status\u001b[0m\n",
      "\u001b[32;1m--------------------                     \u001b[0m \u001b[32;1m------------------  \u001b[0m \u001b[32;1m------------\u001b[0m \u001b[32;1m------\u001b[0m\n",
      "rds:authenticationdbprod-2024-07-12-02-57 7/12/2024 3:57:18 AM automated    available\n",
      "rds:authenticationdbprod-2024-07-11-02-56 7/11/2024 3:56:46 AM automated    available\n",
      "rds:authenticationdbprod-2024-07-10-02-56 7/10/2024 3:56:55 AM automated    available\n",
      "rds:authenticationdbprod-2024-07-09-02-56 7/9/2024 3:56:51 AM  automated    available\n",
      "rds:authenticationdbprod-2024-07-08-02-56 7/8/2024 3:56:40 AM  automated    available\n",
      "rds:authenticationdbprod-2024-07-07-02-56 7/7/2024 3:56:51 AM  automated    available\n",
      "rds:authenticationdbprod-2024-07-06-02-56 7/6/2024 3:56:41 AM  automated    available\n",
      "rds:authenticationdbprod-2024-07-05-02-56 7/5/2024 3:56:40 AM  automated    available\n",
      "rds:authenticationdbprod-2024-07-04-02-56 7/4/2024 3:56:27 AM  automated    available\n",
      "authenticationdbprod-snapshot             3/12/2024 8:27:02 AM manual       available\n",
      "\n"
     ]
    }
   ],
   "source": [
    "$DB = 'authenticationdbprod'\n",
    "$Snap | Where-Object {$_.DBInstanceIdentifier -eq $DB} | Select-Object DBSnapshotIdentifier, SnapshotCreateTime, SnapshotType, Status |\n",
    "Sort-Object SnapshotCreateTime -Descending  |Format-Table -AutoSize"
   ]
  },
  {
   "cell_type": "markdown",
   "metadata": {},
   "source": [
    "##### bookingdbprod"
   ]
  },
  {
   "cell_type": "code",
   "execution_count": 11,
   "metadata": {
    "dotnet_interactive": {
     "language": "pwsh"
    },
    "polyglot_notebook": {
     "kernelName": "pwsh"
    }
   },
   "outputs": [
    {
     "name": "stdout",
     "output_type": "stream",
     "text": [
      "\n",
      "\u001b[32;1mDBSnapshotIdentifier              \u001b[0m\u001b[32;1m SnapshotCreateTime  \u001b[0m\u001b[32;1m SnapshotType\u001b[0m\u001b[32;1m Status\u001b[0m\n",
      "\u001b[32;1m--------------------              \u001b[0m \u001b[32;1m------------------  \u001b[0m \u001b[32;1m------------\u001b[0m \u001b[32;1m------\u001b[0m\n",
      "rds:bookingdbprod-2024-07-12-04-56 7/12/2024 5:56:45 AM automated    available\n",
      "rds:bookingdbprod-2024-07-11-04-56 7/11/2024 5:56:58 AM automated    available\n",
      "rds:bookingdbprod-2024-07-10-04-56 7/10/2024 5:56:56 AM automated    available\n",
      "rds:bookingdbprod-2024-07-09-04-56 7/9/2024 5:56:49 AM  automated    available\n",
      "rds:bookingdbprod-2024-07-08-04-56 7/8/2024 5:56:57 AM  automated    available\n",
      "rds:bookingdbprod-2024-07-07-04-56 7/7/2024 5:56:59 AM  automated    available\n",
      "rds:bookingdbprod-2024-07-06-04-56 7/6/2024 5:56:30 AM  automated    available\n",
      "rds:bookingdbprod-2024-07-05-04-57 7/5/2024 5:57:14 AM  automated    available\n",
      "bookingdbprod-snapshot             3/12/2024 8:38:57 AM manual       available\n",
      "\n"
     ]
    }
   ],
   "source": [
    "$DB = 'bookingdbprod'\n",
    "$Snap | Where-Object {$_.DBInstanceIdentifier -eq $DB} | Select-Object DBSnapshotIdentifier, SnapshotCreateTime, SnapshotType, Status |\n",
    "Sort-Object SnapshotCreateTime -Descending  |Format-Table -AutoSize"
   ]
  },
  {
   "cell_type": "markdown",
   "metadata": {},
   "source": [
    "##### notificationdbprod"
   ]
  },
  {
   "cell_type": "code",
   "execution_count": 12,
   "metadata": {
    "dotnet_interactive": {
     "language": "pwsh"
    },
    "polyglot_notebook": {
     "kernelName": "pwsh"
    }
   },
   "outputs": [
    {
     "name": "stdout",
     "output_type": "stream",
     "text": [
      "\n",
      "\u001b[32;1mDBSnapshotIdentifier                   \u001b[0m\u001b[32;1m SnapshotCreateTime  \u001b[0m\u001b[32;1m SnapshotType\u001b[0m\u001b[32;1m Status\u001b[0m\n",
      "\u001b[32;1m--------------------                   \u001b[0m \u001b[32;1m------------------  \u001b[0m \u001b[32;1m------------\u001b[0m \u001b[32;1m------\u001b[0m\n",
      "rds:notificationdbprod-2024-07-12-00-20 7/12/2024 1:20:25 AM automated    available\n",
      "rds:notificationdbprod-2024-07-11-00-20 7/11/2024 1:20:29 AM automated    available\n",
      "rds:notificationdbprod-2024-07-10-00-20 7/10/2024 1:20:46 AM automated    available\n",
      "rds:notificationdbprod-2024-07-09-00-20 7/9/2024 1:20:43 AM  automated    available\n",
      "rds:notificationdbprod-2024-07-08-00-21 7/8/2024 1:21:16 AM  automated    available\n",
      "rds:notificationdbprod-2024-07-07-00-20 7/7/2024 1:20:33 AM  automated    available\n",
      "rds:notificationdbprod-2024-07-06-00-20 7/6/2024 1:20:23 AM  automated    available\n",
      "rds:notificationdbprod-2024-07-05-00-20 7/5/2024 1:20:51 AM  automated    available\n",
      "rds:notificationdbprod-2024-07-04-00-20 7/4/2024 1:20:16 AM  automated    available\n",
      "notificationdbprod-snapshot             3/12/2024 8:39:20 AM manual       available\n",
      "\n"
     ]
    }
   ],
   "source": [
    "$DB = 'notificationdbprod'\n",
    "$Snap | Where-Object {$_.DBInstanceIdentifier -eq $DB} | Select-Object DBSnapshotIdentifier, SnapshotCreateTime, SnapshotType, Status |\n",
    "Sort-Object SnapshotCreateTime -Descending  |Format-Table -AutoSize"
   ]
  }
 ],
 "metadata": {
  "kernelspec": {
   "display_name": ".NET (PowerShell)",
   "language": "PowerShell",
   "name": ".net-pwsh"
  },
  "polyglot_notebook": {
   "kernelInfo": {
    "defaultKernelName": "pwsh",
    "items": [
     {
      "aliases": [],
      "languageName": "pwsh",
      "name": "pwsh"
     }
    ]
   }
  }
 },
 "nbformat": 4,
 "nbformat_minor": 2
}
