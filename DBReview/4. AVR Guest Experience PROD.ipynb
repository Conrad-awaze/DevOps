{
 "cells": [
  {
   "cell_type": "markdown",
   "metadata": {},
   "source": [
    "# Account - AVR Guest Experience PROD"
   ]
  },
  {
   "cell_type": "markdown",
   "metadata": {},
   "source": [
    "## Database Summary"
   ]
  },
  {
   "cell_type": "code",
   "execution_count": 1,
   "metadata": {
    "dotnet_interactive": {
     "language": "pwsh"
    },
    "polyglot_notebook": {
     "kernelName": "pwsh"
    }
   },
   "outputs": [
    {
     "name": "stdout",
     "output_type": "stream",
     "text": [
      "\n",
      "\u001b[32;1mAccount                  \u001b[0m\u001b[32;1m AccountID   \u001b[0m\u001b[32;1m Region   \u001b[0m\u001b[32;1m RDSInstances\u001b[0m\u001b[32;1m DynamoDBTables\u001b[0m\n",
      "\u001b[32;1m-------                  \u001b[0m \u001b[32;1m---------   \u001b[0m \u001b[32;1m------   \u001b[0m \u001b[32;1m------------\u001b[0m \u001b[32;1m--------------\u001b[0m\n",
      "AVR-Guest-Experience-PROD 957578851978 eu-west-2            1              2\n",
      "\n"
     ]
    }
   ],
   "source": [
    "Import-Module AWS.Tools.Common, AWS.Tools.DynamoDBv2, AWS.Tools.RDS\n",
    "Import-Module '/Users/conrad.gauntlett/WorkArea/Repos/DBA_MISC/PowerShell/Modules/DevOpsToolkit'\n",
    "\n",
    "$Account            = 'DevOps-AVR-Guest-Experience-PROD'\n",
    "$RDSSummaryColumns  = 'AvailabilityZone', 'DBSnapshotIdentifier', 'SnapshotCreateTime', 'SnapshotType', 'Status'\n",
    "$Profiles           = Get-AWSCredentials -ListProfileDetail | Where-Object { $_.ProfileName -match $Account }\n",
    "$Regions            = \"eu-central-1\" , \"eu-west-2\" , \"eu-west-1\", \"us-east-1\"\n",
    "$Summary            = Get-DoAWSDBInformation $Profiles $Regions\n",
    "$Summary | Format-Table -AutoSize"
   ]
  },
  {
   "cell_type": "markdown",
   "metadata": {},
   "source": [
    "### DynamoDB Tables"
   ]
  },
  {
   "cell_type": "code",
   "execution_count": 2,
   "metadata": {
    "dotnet_interactive": {
     "language": "pwsh"
    },
    "polyglot_notebook": {
     "kernelName": "pwsh"
    }
   },
   "outputs": [
    {
     "name": "stdout",
     "output_type": "stream",
     "text": [
      "\n",
      "\u001b[32;1mRegion   \u001b[0m\u001b[32;1m TableName      \u001b[0m\u001b[32;1m TableBackup\u001b[0m\u001b[32;1m CreationDateTime     \u001b[0m\u001b[32;1m ItemCount\u001b[0m\u001b[32;1m TableSizeMB\u001b[0m\n",
      "\u001b[32;1m------   \u001b[0m \u001b[32;1m---------      \u001b[0m \u001b[32;1m-----------\u001b[0m \u001b[32;1m----------------     \u001b[0m \u001b[32;1m---------\u001b[0m \u001b[32;1m-----------\u001b[0m\n",
      "eu-west-2 terraform-lock        False 3/16/2021 2:55:01 PM         49 0 MB\n",
      "eu-west-2 terraform-locks       False 10/19/2021 1:14:49 PM        68 0 MB\n",
      "\n"
     ]
    }
   ],
   "source": [
    "$ddbTables = Get-DoDDBTableInformation $Profiles $Regions \n",
    "$ddbTables | Format-Table -AutoSize"
   ]
  },
  {
   "cell_type": "markdown",
   "metadata": {},
   "source": [
    "### RDS Instances"
   ]
  },
  {
   "cell_type": "code",
   "execution_count": 3,
   "metadata": {
    "dotnet_interactive": {
     "language": "pwsh"
    },
    "polyglot_notebook": {
     "kernelName": "pwsh"
    }
   },
   "outputs": [
    {
     "name": "stdout",
     "output_type": "stream",
     "text": [
      "\n",
      "\u001b[32;1mRegion   \u001b[0m\u001b[32;1m DBInstanceIdentifier\u001b[0m\u001b[32;1m Engine \u001b[0m\u001b[32;1m Version\u001b[0m\u001b[32;1m InstanceCreateTime  \u001b[0m\u001b[32;1m Snapshots\u001b[0m\u001b[32;1m Retention\u001b[0m\n",
      "\u001b[32;1m------   \u001b[0m \u001b[32;1m--------------------\u001b[0m \u001b[32;1m------ \u001b[0m \u001b[32;1m-------\u001b[0m \u001b[32;1m------------------  \u001b[0m \u001b[32;1m---------\u001b[0m \u001b[32;1m---------\u001b[0m\n",
      "eu-west-2 places-api           mariadb 10.6.16 4/11/2023 3:36:31 PM         9         7\n",
      "\n"
     ]
    }
   ],
   "source": [
    "$RDS        = Get-DoRDSDBSummary $Profiles $Regions \n",
    "$Snapshots  = Get-DoRDSSnapshotSummary $Profiles $Regions\n",
    "$RDS | Format-Table -AutoSize"
   ]
  },
  {
   "cell_type": "markdown",
   "metadata": {},
   "source": [
    "#### Snapshots"
   ]
  },
  {
   "cell_type": "markdown",
   "metadata": {},
   "source": [
    "##### places-api"
   ]
  },
  {
   "cell_type": "code",
   "execution_count": 4,
   "metadata": {
    "dotnet_interactive": {
     "language": "pwsh"
    },
    "polyglot_notebook": {
     "kernelName": "pwsh"
    }
   },
   "outputs": [
    {
     "name": "stdout",
     "output_type": "stream",
     "text": [
      "\n",
      "\u001b[32;1mAvailabilityZone\u001b[0m\u001b[32;1m DBSnapshotIdentifier           \u001b[0m\u001b[32;1m SnapshotCreateTime  \u001b[0m\u001b[32;1m SnapshotType\u001b[0m\u001b[32;1m Status\u001b[0m\n",
      "\u001b[32;1m----------------\u001b[0m \u001b[32;1m--------------------           \u001b[0m \u001b[32;1m------------------  \u001b[0m \u001b[32;1m------------\u001b[0m \u001b[32;1m------\u001b[0m\n",
      "eu-west-2b       rds:places-api-2024-07-15-03-13 7/15/2024 4:13:22 AM automated    available\n",
      "eu-west-2b       rds:places-api-2024-07-14-03-13 7/14/2024 4:13:54 AM automated    available\n",
      "eu-west-2b       rds:places-api-2024-07-13-03-12 7/13/2024 4:12:54 AM automated    available\n",
      "eu-west-2b       rds:places-api-2024-07-12-03-13 7/12/2024 4:14:01 AM automated    available\n",
      "eu-west-2b       rds:places-api-2024-07-11-03-12 7/11/2024 4:12:36 AM automated    available\n",
      "eu-west-2b       rds:places-api-2024-07-10-03-12 7/10/2024 4:12:53 AM automated    available\n",
      "eu-west-2b       rds:places-api-2024-07-09-03-14 7/9/2024 4:14:26 AM  automated    available\n",
      "eu-west-2b       rds:places-api-2024-07-08-03-13 7/8/2024 4:13:36 AM  automated    available\n",
      "eu-west-2b       rds:places-api-2024-07-07-03-13 7/7/2024 4:13:19 AM  automated    available\n",
      "\n"
     ]
    }
   ],
   "source": [
    "$DB = 'places-api'\n",
    "$Snapshots | Where-Object {$_.DBInstanceIdentifier -eq $DB} | Select-Object $RDSSummaryColumns |\n",
    "Sort-Object SnapshotCreateTime -Descending  |Format-Table -AutoSize"
   ]
  }
 ],
 "metadata": {
  "kernelspec": {
   "display_name": ".NET (PowerShell)",
   "language": "PowerShell",
   "name": ".net-pwsh"
  },
  "polyglot_notebook": {
   "kernelInfo": {
    "defaultKernelName": "pwsh",
    "items": [
     {
      "aliases": [],
      "languageName": "pwsh",
      "name": "pwsh"
     }
    ]
   }
  }
 },
 "nbformat": 4,
 "nbformat_minor": 2
}
