{
 "cells": [
  {
   "cell_type": "markdown",
   "metadata": {},
   "source": [
    "# Account - AVR Guest Experience PROD"
   ]
  },
  {
   "cell_type": "markdown",
   "metadata": {},
   "source": [
    "## Database Summary"
   ]
  },
  {
   "cell_type": "code",
   "execution_count": 7,
   "metadata": {
    "dotnet_interactive": {
     "language": "pwsh"
    },
    "polyglot_notebook": {
     "kernelName": "pwsh"
    }
   },
   "outputs": [
    {
     "name": "stdout",
     "output_type": "stream",
     "text": [
      "\n",
      "\u001b[32;1mAccount                  \u001b[0m\u001b[32;1m AccountID   \u001b[0m\u001b[32;1m Region   \u001b[0m\u001b[32;1m RDSInstances\u001b[0m\u001b[32;1m DynamoDBTables\u001b[0m\n",
      "\u001b[32;1m-------                  \u001b[0m \u001b[32;1m---------   \u001b[0m \u001b[32;1m------   \u001b[0m \u001b[32;1m------------\u001b[0m \u001b[32;1m--------------\u001b[0m\n",
      "AVR-Guest-Experience-PROD 957578851978 eu-west-2            1              2\n",
      "\n"
     ]
    }
   ],
   "source": [
    "Import-Module AWS.Tools.Common\n",
    "Import-Module AWS.Tools.DynamoDBv2\n",
    "Import-Module AWS.Tools.RDS\n",
    "\n",
    "$Profiles   = Get-AWSCredentials -ListProfileDetail | Where-Object { $_.ProfileName -match 'DevOps-AVR-Guest-Experience-PROD' }\n",
    "$Regions    = \"eu-central-1\" , \"eu-west-2\" , \"eu-west-1\", \"us-east-1\"\n",
    "\n",
    "function Get-AWSDBInformation {\n",
    "    [CmdletBinding()]\n",
    "    param (\n",
    "\n",
    "        $Profiles,\n",
    "        $Regions,\n",
    "        $RegexGroup             = 'AccountNumber',\n",
    "        $RegexGroupAccountName  = 'AccountName',\n",
    "        $RegexAccountNumber     = \"(?<$RegexGroup>\\d+):db.+$\",\n",
    "        $RegexAccountNumberDDb  = \"(?<$RegexGroup>\\d+):table.+$\", \n",
    "        $RegexAccountName       = \"(?<PreFix>DevOps-)(?<$RegexGroupAccountName>.+)\"\n",
    "    )\n",
    "    \n",
    "    begin {\n",
    "\n",
    "        $Summary    = @()\n",
    "        \n",
    "    }\n",
    "    \n",
    "    process {\n",
    "\n",
    "        $Summary    = @()\n",
    "        foreach ($Profile in $Profiles) {\n",
    "\n",
    "            foreach ($Region in $Regions) {\n",
    "                \n",
    "                $RDSInstances   = Get-RDSDBInstance -ProfileName $Profile.ProfileName -Region $Region\n",
    "                $ddbTables      = Get-DDBTableList -ProfileName $Profile.ProfileName -Region $Region\n",
    "\n",
    "                switch ([string]::IsNullOrEmpty($RDSInstances)) {\n",
    "                    $true { \n",
    "                        if ($ddbTables) {\n",
    "                            \n",
    "                            $Table = $ddbTables | Select-Object -First 1\n",
    "                            $ddbTable = Get-DDBTable -TableName $Table -ProfileName $Profile.ProfileName -Region $Region\n",
    "                            $AccountID  = (($ddbTable.TableArn | Select-String -Pattern $RegexAccountNumberDDb).Matches.Groups | Where-Object { $_.Name -eq $RegexGroup }).Value\n",
    "                        }else {\n",
    "\n",
    "                            $AccountID = 0\n",
    "                        }\n",
    "                    }\n",
    "                    $false {\n",
    "\n",
    "                        $RDSInstance   = $RDSInstances | Select-Object -First 1\n",
    "                        $AccountID  = (($RDSInstance.DBInstanceArn | Select-String -Pattern $RegexAccountNumber).Matches.Groups | Where-Object { $_.Name -eq $RegexGroup }).Value\n",
    "                    }\n",
    "                    default {\n",
    "\n",
    "                        $AccountID = 0\n",
    "                    }\n",
    "                }\n",
    "\n",
    "                $Sum = [PSCustomObject]@{\n",
    "\n",
    "                    Account             = (($Profile.ProfileName | select-string -Pattern $RegexAccountName).Matches.Groups | Where-Object { $_.Name -eq $RegexGroupAccountName }).Value\n",
    "                    AccountID           = $AccountID\n",
    "                    Region              = $Region\n",
    "                    RDSInstances        = ($RDSInstances.DBInstanceIdentifier | Measure-Object).Count\n",
    "                    DynamoDBTables      = $ddbTables.Count\n",
    "                    \n",
    "                }\n",
    "\n",
    "                $condition = $Sum.RDSInstances + $Sum.DynamoDBTables\n",
    "                if ($condition -gt 0) {\n",
    "                    $Summary += $Sum\n",
    "                }\n",
    "            }\n",
    "\n",
    "        }\n",
    "        \n",
    "    }\n",
    "    \n",
    "    end {\n",
    "\n",
    "        $Summary\n",
    "        \n",
    "    }\n",
    "}\n",
    "\n",
    "$Summary    = Get-AWSDBInformation $Profiles $Regions\n",
    "$Summary    | Format-Table -AutoSize"
   ]
  },
  {
   "cell_type": "markdown",
   "metadata": {},
   "source": [
    "### DynamoDB Tables"
   ]
  },
  {
   "cell_type": "code",
   "execution_count": 11,
   "metadata": {
    "dotnet_interactive": {
     "language": "pwsh"
    },
    "polyglot_notebook": {
     "kernelName": "pwsh"
    }
   },
   "outputs": [
    {
     "name": "stdout",
     "output_type": "stream",
     "text": [
      "\n",
      "\u001b[32;1mRegion   \u001b[0m\u001b[32;1m TableName      \u001b[0m\u001b[32;1m Backup\u001b[0m\u001b[32;1m CreationDateTime     \u001b[0m\u001b[32;1m ItemCount\u001b[0m\u001b[32;1m SizeMB\u001b[0m\u001b[32;1m Status\u001b[0m\n",
      "\u001b[32;1m------   \u001b[0m \u001b[32;1m---------      \u001b[0m \u001b[32;1m------\u001b[0m \u001b[32;1m----------------     \u001b[0m \u001b[32;1m---------\u001b[0m \u001b[32;1m------\u001b[0m \u001b[32;1m------\u001b[0m\n",
      "eu-west-2 terraform-lock   False 3/16/2021 2:55:01 PM         49 0 MB   ACTIVE\n",
      "eu-west-2 terraform-locks  False 10/19/2021 1:14:49 PM        68 0 MB   ACTIVE\n",
      "\n"
     ]
    }
   ],
   "source": [
    "$ddbTables  = @()\n",
    "$ddbTableList   = @()\n",
    "$Regions | ForEach-Object   {\n",
    "\n",
    "    $ddbTableList   = Get-DDBTableList -ProfileName $Profiles.ProfileName -Region $_\n",
    "    $ddbBackupList  = Get-DDBBackupList -ProfileName $Profiles.ProfileName -Region $_\n",
    "\n",
    "    foreach ($ddbTable in $ddbTableList) {\n",
    "        \n",
    "        $Table = Get-DDBTable -TableName $ddbTable -ProfileName $Profiles.ProfileName -Region $_\n",
    "\n",
    "        if ($ddbBackupList) {\n",
    "            \n",
    "            $BackupAvailable = $ddbBackupList.TableName.Contains(\"$($Table.TableName)\")\n",
    "        }\n",
    "        else {\n",
    "\n",
    "            $BackupAvailable = $false\n",
    "        }\n",
    "        \n",
    "\n",
    "        $Sum = [PSCustomObject]@{\n",
    "\n",
    "            Region              = $_\n",
    "            TableName           = $Table.TableName\n",
    "            Backup              = $BackupAvailable\n",
    "            CreationDateTime    = $Table.CreationDateTime\n",
    "            ItemCount           = $Table.ItemCount\n",
    "            # TableSizeBytes      = $Table.TableSizeBytes\n",
    "            SizeMB         = \"$([math]::round($($Table.TableSizeBytes /1MB), 0)) MB\"\n",
    "            Status         = $Table.TableStatus\n",
    "            # TableId             = $Table.TableId\n",
    "            # KeySchema           = $Table.KeySchema\n",
    "            # GlobalSecondaryIndexes = $Table.GlobalSecondaryIndexes\n",
    "            \n",
    "        }\n",
    "        $ddbTables += $Sum\n",
    "    }\n",
    "    \n",
    "    \n",
    "\n",
    "}\n",
    "$ddbTables | Format-Table -AutoSize"
   ]
  },
  {
   "cell_type": "markdown",
   "metadata": {},
   "source": [
    "### RDS Instances"
   ]
  },
  {
   "cell_type": "code",
   "execution_count": 12,
   "metadata": {
    "dotnet_interactive": {
     "language": "pwsh"
    },
    "polyglot_notebook": {
     "kernelName": "pwsh"
    }
   },
   "outputs": [
    {
     "name": "stdout",
     "output_type": "stream",
     "text": [
      "\n",
      "\u001b[32;1mDBInstanceIdentifier\u001b[0m\u001b[32;1m Engine \u001b[0m\u001b[32;1m EngineVersion\u001b[0m\u001b[32;1m InstanceCreateTime  \u001b[0m\u001b[32;1m BackupRetention\u001b[0m\u001b[32;1m Snapshots\u001b[0m\n",
      "\u001b[32;1m--------------------\u001b[0m \u001b[32;1m------ \u001b[0m \u001b[32;1m-------------\u001b[0m \u001b[32;1m------------------  \u001b[0m \u001b[32;1m---------------\u001b[0m \u001b[32;1m---------\u001b[0m\n",
      "places-api           mariadb 10.6.16       4/11/2023 3:36:31 PM               7         9\n",
      "\n"
     ]
    }
   ],
   "source": [
    "$RDSInstances = Get-RDSDBInstance -ProfileName $Profiles.ProfileName -Region eu-west-2\n",
    "\n",
    "$Inst = @()\n",
    "$Snap = @()\n",
    "$Snapshots = @()\n",
    "foreach ($Instance in $RDSInstances) {\n",
    "    \n",
    "    $DBInstanceArn      = $Instance.DBInstanceArn\n",
    "    # $Tags               = Get-RDSTagForResource -ResourceName $DBInstanceArn -ProfileName $Profile.ProfileName\n",
    "    $Shots          = Get-RDSDBSnapshot -ProfileName $Profiles.ProfileName -DBInstanceIdentifier $DBInstanceArn\n",
    "    #$DBClusterSnapshots = Get-RDSDBClusterSnapshot -ProfileName $Profile.ProfileName -DBClusterIdentifier $DBInstanceArn\n",
    "\n",
    "    $Sum = [PSCustomObject]@{\n",
    "\n",
    "        #DBName                  = $Instance.DBName\n",
    "        DBInstanceIdentifier    = $Instance.DBInstanceIdentifier\n",
    "        Engine                  = $Instance.Engine\n",
    "        EngineVersion           = $Instance.EngineVersion\n",
    "        InstanceCreateTime      = $Instance.InstanceCreateTime\n",
    "        #DBInstanceClass         = $Instance.DBInstanceClass\n",
    "        BackupRetention         = $Instance.BackupRetentionPeriod\n",
    "        #StorageThroughput       = $Instance.StorageThroughput\n",
    "        #Tags                    = $Tags\n",
    "        Snapshots               = ($Shots | Measure-Object).Count\n",
    "        #DBClusterSnapshots      = ($DBClusterSnapshots | Measure-Object).Count\n",
    "        \n",
    "    }\n",
    "    $Inst += $Sum\n",
    "    $Snapshots += $Shots\n",
    "    \n",
    "}\n",
    "\n",
    "$Snapshots | ForEach-Object {\n",
    "\n",
    "    $Sum = [PSCustomObject]@{\n",
    "\n",
    "        DBInstanceIdentifier    = $_.DBInstanceIdentifier\n",
    "        DBSnapshotIdentifier    = $_.DBSnapshotIdentifier\n",
    "        SnapshotCreateTime      = $_.SnapshotCreateTime\n",
    "        Engine                  = $_.Engine\n",
    "        SnapshotType            = $_.SnapshotType\n",
    "        Status                  = $_.Status\n",
    "        \n",
    "    }\n",
    "    $Snap += $Sum\n",
    "}\n",
    "$Inst | Format-Table -AutoSize"
   ]
  },
  {
   "cell_type": "markdown",
   "metadata": {},
   "source": [
    "#### Snapshots"
   ]
  },
  {
   "cell_type": "markdown",
   "metadata": {},
   "source": [
    "##### places-api"
   ]
  },
  {
   "cell_type": "code",
   "execution_count": 13,
   "metadata": {
    "dotnet_interactive": {
     "language": "pwsh"
    },
    "polyglot_notebook": {
     "kernelName": "pwsh"
    }
   },
   "outputs": [
    {
     "name": "stdout",
     "output_type": "stream",
     "text": [
      "\n",
      "\u001b[32;1mDBSnapshotIdentifier           \u001b[0m\u001b[32;1m SnapshotCreateTime  \u001b[0m\u001b[32;1m SnapshotType\u001b[0m\u001b[32;1m Status\u001b[0m\n",
      "\u001b[32;1m--------------------           \u001b[0m \u001b[32;1m------------------  \u001b[0m \u001b[32;1m------------\u001b[0m \u001b[32;1m------\u001b[0m\n",
      "rds:places-api-2024-07-13-03-12 7/13/2024 4:12:54 AM automated    available\n",
      "rds:places-api-2024-07-12-03-13 7/12/2024 4:14:01 AM automated    available\n",
      "rds:places-api-2024-07-11-03-12 7/11/2024 4:12:36 AM automated    available\n",
      "rds:places-api-2024-07-10-03-12 7/10/2024 4:12:53 AM automated    available\n",
      "rds:places-api-2024-07-09-03-14 7/9/2024 4:14:26 AM  automated    available\n",
      "rds:places-api-2024-07-08-03-13 7/8/2024 4:13:36 AM  automated    available\n",
      "rds:places-api-2024-07-07-03-13 7/7/2024 4:13:19 AM  automated    available\n",
      "rds:places-api-2024-07-06-03-12 7/6/2024 4:12:57 AM  automated    available\n",
      "rds:places-api-2024-07-05-03-16 7/5/2024 4:16:41 AM  automated    available\n",
      "\n"
     ]
    }
   ],
   "source": [
    "$DB = 'places-api'\n",
    "$Snap | Where-Object {$_.DBInstanceIdentifier -eq $DB} | Select-Object DBSnapshotIdentifier, SnapshotCreateTime, SnapshotType, Status |\n",
    "Sort-Object SnapshotCreateTime -Descending  |Format-Table -AutoSize"
   ]
  }
 ],
 "metadata": {
  "kernelspec": {
   "display_name": ".NET (PowerShell)",
   "language": "PowerShell",
   "name": ".net-pwsh"
  },
  "polyglot_notebook": {
   "kernelInfo": {
    "defaultKernelName": "pwsh",
    "items": [
     {
      "aliases": [],
      "languageName": "pwsh",
      "name": "pwsh"
     }
    ]
   }
  }
 },
 "nbformat": 4,
 "nbformat_minor": 2
}
