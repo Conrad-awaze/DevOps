{
 "cells": [
  {
   "cell_type": "markdown",
   "metadata": {},
   "source": [
    "# Account - AVR Guest Payments PROD"
   ]
  },
  {
   "cell_type": "markdown",
   "metadata": {},
   "source": [
    "## Database Summary"
   ]
  },
  {
   "cell_type": "code",
   "execution_count": 8,
   "metadata": {
    "dotnet_interactive": {
     "language": "pwsh"
    },
    "polyglot_notebook": {
     "kernelName": "pwsh"
    }
   },
   "outputs": [
    {
     "name": "stdout",
     "output_type": "stream",
     "text": [
      "\n",
      "\u001b[32;1mAccount                \u001b[0m\u001b[32;1m AccountID   \u001b[0m\u001b[32;1m Region      \u001b[0m\u001b[32;1m RDSInstances\u001b[0m\u001b[32;1m DynamoDBTables\u001b[0m\n",
      "\u001b[32;1m-------                \u001b[0m \u001b[32;1m---------   \u001b[0m \u001b[32;1m------      \u001b[0m \u001b[32;1m------------\u001b[0m \u001b[32;1m--------------\u001b[0m\n",
      "AVR-Guest-Payments-PROD 461191266857 eu-central-1            0              1\n",
      "AVR-Guest-Payments-PROD 461191266857 eu-west-2               0              5\n",
      "\n"
     ]
    }
   ],
   "source": [
    "Import-Module AWS.Tools.Common\n",
    "Import-Module AWS.Tools.DynamoDBv2\n",
    "Import-Module AWS.Tools.RDS\n",
    "\n",
    "$Profiles   = Get-AWSCredentials -ListProfileDetail | Where-Object { $_.ProfileName -match 'DevOps-AVR-Guest-Payments-PROD' }\n",
    "$Regions    = \"eu-central-1\" , \"eu-west-2\" , \"eu-west-1\", \"us-east-1\"\n",
    "\n",
    "function Get-AWSDBInformation {\n",
    "    [CmdletBinding()]\n",
    "    param (\n",
    "\n",
    "        $Profiles,\n",
    "        $Regions,\n",
    "        $RegexGroup             = 'AccountNumber',\n",
    "        $RegexGroupAccountName  = 'AccountName',\n",
    "        $RegexAccountNumber     = \"(?<$RegexGroup>\\d+):db.+$\",\n",
    "        $RegexAccountNumberDDb  = \"(?<$RegexGroup>\\d+):table.+$\", \n",
    "        $RegexAccountName       = \"(?<PreFix>DevOps-)(?<$RegexGroupAccountName>.+)\"\n",
    "    )\n",
    "    \n",
    "    begin {\n",
    "\n",
    "        $Summary    = @()\n",
    "        \n",
    "    }\n",
    "    \n",
    "    process {\n",
    "\n",
    "        $Summary    = @()\n",
    "        foreach ($Profile in $Profiles) {\n",
    "\n",
    "            foreach ($Region in $Regions) {\n",
    "                \n",
    "                $RDSInstances   = Get-RDSDBInstance -ProfileName $Profile.ProfileName -Region $Region\n",
    "                $ddbTables      = Get-DDBTableList -ProfileName $Profile.ProfileName -Region $Region\n",
    "\n",
    "                switch ([string]::IsNullOrEmpty($RDSInstances)) {\n",
    "                    $true { \n",
    "                        if ($ddbTables) {\n",
    "                            \n",
    "                            $Table = $ddbTables | Select-Object -First 1\n",
    "                            $ddbTable = Get-DDBTable -TableName $Table -ProfileName $Profile.ProfileName -Region $Region\n",
    "                            $AccountID  = (($ddbTable.TableArn | Select-String -Pattern $RegexAccountNumberDDb).Matches.Groups | Where-Object { $_.Name -eq $RegexGroup }).Value\n",
    "                        }else {\n",
    "\n",
    "                            $AccountID = 0\n",
    "                        }\n",
    "                    }\n",
    "                    $false {\n",
    "\n",
    "                        $RDSInstance   = $RDSInstances | Select-Object -First 1\n",
    "                        $AccountID  = (($RDSInstance.DBInstanceArn | Select-String -Pattern $RegexAccountNumber).Matches.Groups | Where-Object { $_.Name -eq $RegexGroup }).Value\n",
    "                    }\n",
    "                    default {\n",
    "\n",
    "                        $AccountID = 0\n",
    "                    }\n",
    "                }\n",
    "\n",
    "                $Sum = [PSCustomObject]@{\n",
    "\n",
    "                    Account             = (($Profile.ProfileName | select-string -Pattern $RegexAccountName).Matches.Groups | Where-Object { $_.Name -eq $RegexGroupAccountName }).Value\n",
    "                    AccountID           = $AccountID\n",
    "                    Region              = $Region\n",
    "                    RDSInstances        = ($RDSInstances.DBInstanceIdentifier | Measure-Object).Count\n",
    "                    DynamoDBTables      = $ddbTables.Count\n",
    "                    \n",
    "                }\n",
    "\n",
    "                $condition = $Sum.RDSInstances + $Sum.DynamoDBTables\n",
    "                if ($condition -gt 0) {\n",
    "                    $Summary += $Sum\n",
    "                }\n",
    "            }\n",
    "\n",
    "        }\n",
    "        \n",
    "    }\n",
    "    \n",
    "    end {\n",
    "\n",
    "        $Summary\n",
    "        \n",
    "    }\n",
    "}\n",
    "\n",
    "$Summary    = Get-AWSDBInformation $Profiles $Regions\n",
    "$Summary    | Format-Table -AutoSize"
   ]
  },
  {
   "cell_type": "markdown",
   "metadata": {},
   "source": [
    "### DynamoDB Tables"
   ]
  },
  {
   "cell_type": "code",
   "execution_count": 9,
   "metadata": {
    "dotnet_interactive": {
     "language": "pwsh"
    },
    "polyglot_notebook": {
     "kernelName": "pwsh"
    }
   },
   "outputs": [
    {
     "name": "stdout",
     "output_type": "stream",
     "text": [
      "\n",
      "\u001b[32;1mRegion      \u001b[0m\u001b[32;1m TableName                           \u001b[0m\u001b[32;1m Backup\u001b[0m\u001b[32;1m CreationDateTime     \u001b[0m\u001b[32;1m ItemCount\u001b[0m\u001b[32;1m SizeMB \u001b[0m\u001b[32;1m St\u001b[0m\n",
      "\u001b[32;1m            \u001b[0m\u001b[32;1m                                     \u001b[0m\u001b[32;1m       \u001b[0m\u001b[32;1m                      \u001b[0m\u001b[32;1m          \u001b[0m\u001b[32;1m        \u001b[0m\u001b[32;1m at\u001b[0m\n",
      "\u001b[32;1m            \u001b[0m\u001b[32;1m                                     \u001b[0m\u001b[32;1m       \u001b[0m\u001b[32;1m                      \u001b[0m\u001b[32;1m          \u001b[0m\u001b[32;1m        \u001b[0m\u001b[32;1m us\u001b[0m\n",
      "\u001b[32;1m------      \u001b[0m \u001b[32;1m---------                           \u001b[0m \u001b[32;1m------\u001b[0m \u001b[32;1m----------------     \u001b[0m \u001b[32;1m---------\u001b[0m \u001b[32;1m------ \u001b[0m \u001b[32;1m--\u001b[0m\n",
      "eu-central-1 transaction                           False 1/29/2021 6:01:02 PM          8 0 MB    A…\n",
      "eu-west-2    instalment-plans-payment-instalments  False 6/9/2023 11:17:17 AM     244029 76 MB   A…\n",
      "eu-west-2    scheduled-payments                    False 5/24/2022 11:59:53 AM      2881 0 MB    A…\n",
      "eu-west-2    terraform-locks                       False 10/7/2021 8:08:07 AM         27 0 MB    A…\n",
      "eu-west-2    transaction                           False 4/28/2021 11:30:47 AM   5394241 4735 MB A…\n",
      "eu-west-2    vt-payment-links                      False 7/12/2022 12:51:42 PM    505932 63 MB   A…\n",
      "\n"
     ]
    }
   ],
   "source": [
    "$ddbTables  = @()\n",
    "$ddbTableList   = @()\n",
    "$Regions | ForEach-Object   {\n",
    "\n",
    "    $ddbTableList   = Get-DDBTableList -ProfileName $Profiles.ProfileName -Region $_\n",
    "    $ddbBackupList  = Get-DDBBackupList -ProfileName $Profiles.ProfileName -Region $_\n",
    "\n",
    "    foreach ($ddbTable in $ddbTableList) {\n",
    "        \n",
    "        $Table = Get-DDBTable -TableName $ddbTable -ProfileName $Profiles.ProfileName -Region $_\n",
    "\n",
    "        if ($ddbBackupList) {\n",
    "            \n",
    "            $BackupAvailable = $ddbBackupList.TableName.Contains(\"$($Table.TableName)\")\n",
    "        }\n",
    "        else {\n",
    "\n",
    "            $BackupAvailable = $false\n",
    "        }\n",
    "        \n",
    "\n",
    "        $Sum = [PSCustomObject]@{\n",
    "\n",
    "            Region              = $_\n",
    "            TableName           = $Table.TableName\n",
    "            Backup              = $BackupAvailable\n",
    "            CreationDateTime    = $Table.CreationDateTime\n",
    "            ItemCount           = $Table.ItemCount\n",
    "            # TableSizeBytes      = $Table.TableSizeBytes\n",
    "            SizeMB         = \"$([math]::round($($Table.TableSizeBytes /1MB), 0)) MB\"\n",
    "            Status         = $Table.TableStatus\n",
    "            # TableId             = $Table.TableId\n",
    "            # KeySchema           = $Table.KeySchema\n",
    "            # GlobalSecondaryIndexes = $Table.GlobalSecondaryIndexes\n",
    "            \n",
    "        }\n",
    "        $ddbTables += $Sum\n",
    "    }\n",
    "    \n",
    "    \n",
    "\n",
    "}\n",
    "$ddbTables | Format-Table -AutoSize"
   ]
  }
 ],
 "metadata": {
  "kernelspec": {
   "display_name": ".NET (PowerShell)",
   "language": "PowerShell",
   "name": ".net-pwsh"
  },
  "polyglot_notebook": {
   "kernelInfo": {
    "defaultKernelName": "pwsh",
    "items": [
     {
      "aliases": [],
      "languageName": "pwsh",
      "name": "pwsh"
     }
    ]
   }
  }
 },
 "nbformat": 4,
 "nbformat_minor": 2
}
